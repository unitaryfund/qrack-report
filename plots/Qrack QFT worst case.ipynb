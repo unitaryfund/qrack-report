{
 "cells": [
  {
   "cell_type": "markdown",
   "id": "5f57c8a3",
   "metadata": {},
   "source": [
    "# Qrack Quantum Fourier Transform Validation"
   ]
  },
  {
   "cell_type": "markdown",
   "id": "56aabaf5",
   "metadata": {},
   "source": [
    "How do we know that a GHZ state is Qrack's hardest initialization case for the QFT? We can test this, with random circuits. However, it helps to explain our best guesses at hypothetical hardest cases, first.\n",
    "\n",
    "Because Qrack attempts to factorize its interacting qubit systems to the smallest possible separable subsystems, we anticipate two major factors to contribute to overhead scaling: overhead scales exponentially with subsystem width, but combining factorized subsystems (to interact) also requires a **Kronecker product** operation, which is a source of overhead \"naive\" state vector simulation never needs at all.\n",
    "\n",
    "Hence, there are two obvious (nonexclusive) possibilities to consider for the most expensive case. The most expensive case might be any that starts as a full-width, unfactorized state vector simulation, since it derives no benefit relative to \"naive\" state vector simulation, from Qrack's substate factorization capabilities. Alternatively, it's plausible that a state that starts _fully_ factorized into single qubits, but which we can be sure to _end up as a full-width state vector_, might pay more cost in Kronecker product overhead than overhead saved by any temporary factorization.\n",
    "\n",
    "The second case might actually be worse than GHZ at middle and low qubit widths, relative the maximum allocation segment of a typical 2023 NVIDIA GeForce GPU. GHZ has been found to be the worse of the two at higher widths.\n",
    "\n",
    "However, can we randomly guess any harder cases than these, with RCS? (We try this, below.)"
   ]
  },
  {
   "cell_type": "code",
   "execution_count": 1,
   "id": "90b257ae",
   "metadata": {},
   "outputs": [],
   "source": [
    "low = 1\n",
    "high = 27\n",
    "samples = 10"
   ]
  },
  {
   "cell_type": "code",
   "execution_count": 2,
   "id": "c8d50805",
   "metadata": {},
   "outputs": [
    {
     "name": "stdout",
     "output_type": "stream",
     "text": [
      "env: QRACK_QUNITMULTI_DEVICES=1\n"
     ]
    }
   ],
   "source": [
    "%env QRACK_QUNITMULTI_DEVICES 1\n",
    "import random\n",
    "import time\n",
    "from pyqrack import QrackSimulator, Pauli"
   ]
  },
  {
   "cell_type": "code",
   "execution_count": 3,
   "id": "d495e049",
   "metadata": {},
   "outputs": [],
   "source": [
    "def reverse_qrack(sim):\n",
    "    start = 0\n",
    "    end = sim.num_qubits() - 1\n",
    "    while (start < end):\n",
    "        sim.swap(start, end)\n",
    "        start += 1\n",
    "        end -= 1\n",
    "\n",
    "def qrack_qft(sim, n):\n",
    "    sim.iqft([i for i in reversed(range(n))])\n",
    "    reverse_qrack(sim)\n",
    "    sim.m_all()\n",
    "\n",
    "def rand_u3(sim, q):\n",
    "    th = random.uniform(0, 4 * math.pi)\n",
    "    ph = random.uniform(0, 4 * math.pi)\n",
    "    lm = random.uniform(0, 4 * math.pi)\n",
    "    sim.u(q, th, ph, lm)"
   ]
  },
  {
   "cell_type": "markdown",
   "id": "b73d830e",
   "metadata": {},
   "source": [
    "## GHZ initialization"
   ]
  },
  {
   "cell_type": "code",
   "execution_count": 4,
   "id": "9c5009fa",
   "metadata": {},
   "outputs": [
    {
     "name": "stdout",
     "output_type": "stream",
     "text": [
      "Device #0, Loaded binary from: /home/iamu/.qrack/qrack_ocl_dev_Intel(R)_UHD_Graphics_[0x9bc4].ir\n",
      "Device #1, Loaded binary from: /home/iamu/.qrack/qrack_ocl_dev_NVIDIA_GeForce_RTX_3080_Laptop_GPU.ir\n",
      "{1: 1.1164399984409101e-05, 2: 3.2996599838952537e-05, 3: 0.00013319720037543447, 4: 0.00024407750024693086, 5: 0.00015133670003706357, 6: 0.00014174159969115863, 7: 0.0001772409998011426, 8: 0.000225597299686342, 9: 0.00030800079985056074, 10: 0.0004731696997623658, 11: 0.0015640158999303821, 12: 0.0018655242998647736, 13: 0.0021405497998784996, 14: 0.0025488383003903436, 15: 0.002910359899942705, 16: 0.0033808856998803092, 17: 0.004278139100097178, 18: 0.003591272799712897, 19: 0.0045192783001766655, 20: 0.008387881699673017, 21: 0.0157108478997543, 22: 0.029210087600040423, 23: 0.054105507300300816, 24: 0.10919690820028335, 25: 0.22117784779984503, 26: 0.45902814910023154, 27: 0.9660312883001098}\n"
     ]
    }
   ],
   "source": [
    "def bench_ghz_qrack(n):\n",
    "    sim = QrackSimulator(n)\n",
    "    sim.set_reactive_separate(False)\n",
    "\n",
    "    # GHZ init\n",
    "    sim.h(0)\n",
    "    for i in range(n - 1):\n",
    "        sim.mcx([i], i + 1)\n",
    "\n",
    "    # Block and complete queued operations by reading output on all qubits.\n",
    "    for i in range(n):\n",
    "        sim.prob(i)\n",
    "\n",
    "    # Start timer and run (inverse) QFT\n",
    "    start = time.perf_counter()\n",
    "    qrack_qft(sim, n)\n",
    "\n",
    "    return time.perf_counter() - start\n",
    "\n",
    "qrack_ghz_results = {}\n",
    "for n in range(low, high + 1):\n",
    "    width_results = []\n",
    "        \n",
    "    # Run the benchmarks\n",
    "    for i in range(samples):\n",
    "        width_results.append(bench_ghz_qrack(n))\n",
    "\n",
    "    qrack_ghz_results[n] = sum(width_results) / samples\n",
    "\n",
    "print(qrack_ghz_results)"
   ]
  },
  {
   "cell_type": "markdown",
   "id": "f93b384a",
   "metadata": {},
   "source": [
    "## Randomized single separable qubits initialization"
   ]
  },
  {
   "cell_type": "code",
   "execution_count": 5,
   "id": "cffe4354",
   "metadata": {},
   "outputs": [
    {
     "ename": "NameError",
     "evalue": "name 'math' is not defined",
     "output_type": "error",
     "traceback": [
      "\u001b[0;31m---------------------------------------------------------------------------\u001b[0m",
      "\u001b[0;31mNameError\u001b[0m                                 Traceback (most recent call last)",
      "Input \u001b[0;32mIn [5]\u001b[0m, in \u001b[0;36m<cell line: 20>\u001b[0;34m()\u001b[0m\n\u001b[1;32m     23\u001b[0m     \u001b[38;5;66;03m# Run the benchmarks\u001b[39;00m\n\u001b[1;32m     24\u001b[0m     \u001b[38;5;28;01mfor\u001b[39;00m i \u001b[38;5;129;01min\u001b[39;00m \u001b[38;5;28mrange\u001b[39m(samples):\n\u001b[0;32m---> 25\u001b[0m         width_results\u001b[38;5;241m.\u001b[39mappend(\u001b[43mbench_u3_qrack\u001b[49m\u001b[43m(\u001b[49m\u001b[43mn\u001b[49m\u001b[43m)\u001b[49m)\n\u001b[1;32m     27\u001b[0m     qrack_u3_results[n] \u001b[38;5;241m=\u001b[39m \u001b[38;5;28msum\u001b[39m(width_results) \u001b[38;5;241m/\u001b[39m samples\n\u001b[1;32m     29\u001b[0m \u001b[38;5;28mprint\u001b[39m(qrack_u3_results)\n",
      "Input \u001b[0;32mIn [5]\u001b[0m, in \u001b[0;36mbench_u3_qrack\u001b[0;34m(n)\u001b[0m\n\u001b[1;32m      5\u001b[0m \u001b[38;5;66;03m# U3 init\u001b[39;00m\n\u001b[1;32m      6\u001b[0m \u001b[38;5;28;01mfor\u001b[39;00m i \u001b[38;5;129;01min\u001b[39;00m \u001b[38;5;28mrange\u001b[39m(n):\n\u001b[0;32m----> 7\u001b[0m     \u001b[43mrand_u3\u001b[49m\u001b[43m(\u001b[49m\u001b[43msim\u001b[49m\u001b[43m,\u001b[49m\u001b[43m \u001b[49m\u001b[43mi\u001b[49m\u001b[43m)\u001b[49m\n\u001b[1;32m      9\u001b[0m \u001b[38;5;66;03m# Block and complete queued operations by reading output on all qubits.\u001b[39;00m\n\u001b[1;32m     10\u001b[0m \u001b[38;5;28;01mfor\u001b[39;00m i \u001b[38;5;129;01min\u001b[39;00m \u001b[38;5;28mrange\u001b[39m(n):\n",
      "Input \u001b[0;32mIn [3]\u001b[0m, in \u001b[0;36mrand_u3\u001b[0;34m(sim, q)\u001b[0m\n\u001b[1;32m     14\u001b[0m \u001b[38;5;28;01mdef\u001b[39;00m \u001b[38;5;21mrand_u3\u001b[39m(sim, q):\n\u001b[0;32m---> 15\u001b[0m     th \u001b[38;5;241m=\u001b[39m random\u001b[38;5;241m.\u001b[39muniform(\u001b[38;5;241m0\u001b[39m, \u001b[38;5;241m4\u001b[39m \u001b[38;5;241m*\u001b[39m \u001b[43mmath\u001b[49m\u001b[38;5;241m.\u001b[39mpi)\n\u001b[1;32m     16\u001b[0m     ph \u001b[38;5;241m=\u001b[39m random\u001b[38;5;241m.\u001b[39muniform(\u001b[38;5;241m0\u001b[39m, \u001b[38;5;241m4\u001b[39m \u001b[38;5;241m*\u001b[39m math\u001b[38;5;241m.\u001b[39mpi)\n\u001b[1;32m     17\u001b[0m     lm \u001b[38;5;241m=\u001b[39m random\u001b[38;5;241m.\u001b[39muniform(\u001b[38;5;241m0\u001b[39m, \u001b[38;5;241m4\u001b[39m \u001b[38;5;241m*\u001b[39m math\u001b[38;5;241m.\u001b[39mpi)\n",
      "\u001b[0;31mNameError\u001b[0m: name 'math' is not defined"
     ]
    }
   ],
   "source": [
    "def bench_u3_qrack(n):\n",
    "    sim = QrackSimulator(n)\n",
    "    sim.set_reactive_separate(False)\n",
    "\n",
    "    # U3 init\n",
    "    for i in range(n):\n",
    "        rand_u3(sim, i)\n",
    "\n",
    "    # Block and complete queued operations by reading output on all qubits.\n",
    "    for i in range(n):\n",
    "        sim.prob(i)\n",
    "\n",
    "    # Start timer and run (inverse) QFT\n",
    "    start = time.perf_counter()\n",
    "    qrack_qft(sim, n)\n",
    "\n",
    "    return time.perf_counter() - start\n",
    "\n",
    "qrack_u3_results = {}\n",
    "for n in range(low, high + 1):\n",
    "    width_results = []\n",
    "        \n",
    "    # Run the benchmarks\n",
    "    for i in range(samples):\n",
    "        width_results.append(bench_u3_qrack(n))\n",
    "\n",
    "    qrack_u3_results[n] = sum(width_results) / samples\n",
    "\n",
    "print(qrack_u3_results)"
   ]
  },
  {
   "cell_type": "markdown",
   "id": "68e25cbe",
   "metadata": {},
   "source": [
    "## Random circuit initialization"
   ]
  },
  {
   "cell_type": "code",
   "execution_count": null,
   "id": "ba8cca35",
   "metadata": {},
   "outputs": [],
   "source": [
    "import random\n",
    "import math\n",
    "import numpy as np"
   ]
  },
  {
   "cell_type": "code",
   "execution_count": null,
   "id": "042a6307",
   "metadata": {},
   "outputs": [],
   "source": [
    "#RCS gates\n",
    "\n",
    "def cx(sim, q1, q2):\n",
    "    sim.mcx([q1], q2)\n",
    "\n",
    "def cy(sim, q1, q2):\n",
    "    sim.mcy([q1], q2)\n",
    "\n",
    "def cz(sim, q1, q2):\n",
    "    sim.mcz([q1], q2)\n",
    "\n",
    "def acx(sim, q1, q2):\n",
    "    sim.macx([q1], q2)\n",
    "\n",
    "def acy(sim, q1, q2):\n",
    "    sim.macy([q1], q2)\n",
    "\n",
    "def acz(sim, q1, q2):\n",
    "    sim.macz([q1], q2)\n",
    "\n",
    "def swap(sim, q1, q2):\n",
    "    sim.swap(q1, q2)\n",
    "\n",
    "two_bit_gates = cx, cz, cy, acx, acz, acy"
   ]
  },
  {
   "cell_type": "code",
   "execution_count": null,
   "id": "51ce9199",
   "metadata": {},
   "outputs": [],
   "source": [
    "def bench_rcs_qrack(n):\n",
    "    sim = QrackSimulator(n)\n",
    "    sim.set_reactive_separate(False)\n",
    "\n",
    "    # RCS init\n",
    "    for i in range(n):\n",
    "        # Single bit gates\n",
    "        for j in range(n):\n",
    "            rand_u3(sim, j)\n",
    "\n",
    "        # Multi bit gates\n",
    "        bit_set = [i for i in range(n)]\n",
    "        while len(bit_set) > 1:\n",
    "            b1 = random.choice(bit_set)\n",
    "            bit_set.remove(b1)\n",
    "            b2 = random.choice(bit_set)\n",
    "            bit_set.remove(b2)\n",
    "            gate = random.choice(two_bit_gates)\n",
    "            gate(sim, b1, b2)\n",
    "\n",
    "    # Block and complete queued operations by reading output on all qubits.\n",
    "    for i in range(n):\n",
    "        sim.prob(i)\n",
    "\n",
    "    # Start timer and run (inverse) QFT\n",
    "    start = time.perf_counter()\n",
    "    qrack_qft(sim, n)\n",
    "\n",
    "    return time.perf_counter() - start\n",
    "\n",
    "qrack_rcs_results = {}\n",
    "for n in range(low, high + 1):\n",
    "    width_results = []\n",
    "        \n",
    "    # Run the benchmarks\n",
    "    for i in range(samples):\n",
    "        width_results.append(bench_rcs_qrack(n))\n",
    "\n",
    "    qrack_rcs_results[n] = sum(width_results) / samples\n",
    "\n",
    "print(qrack_rcs_results)"
   ]
  },
  {
   "cell_type": "markdown",
   "id": "27a307ad",
   "metadata": {},
   "source": [
    "## Results"
   ]
  },
  {
   "cell_type": "code",
   "execution_count": null,
   "id": "7403fe28",
   "metadata": {},
   "outputs": [],
   "source": [
    "import matplotlib.pyplot as plt\n",
    "\n",
    "fig = plt.gcf()\n",
    "fig.set_size_inches(14, 14)\n",
    "plt.rc('legend',fontsize=28)\n",
    "plt.rcParams.update({'font.size': 28, 'lines.markersize': 12})\n",
    "\n",
    "colors = list(\"kcymbgr\")\n",
    "markers = list(\"D*PX^so\")\n",
    "\n",
    "x = qrack_ghz_results.keys()\n",
    "y = qrack_ghz_results.values()\n",
    "plt.scatter(x,y,color=colors.pop(),marker=markers.pop())\n",
    "\n",
    "x = qrack_u3_results.keys()\n",
    "y = qrack_u3_results.values()\n",
    "plt.scatter(x,y,color=colors.pop(),marker=markers.pop())\n",
    "\n",
    "x = qrack_rcs_results.keys()\n",
    "y = qrack_rcs_results.values()\n",
    "plt.scatter(x,y,color=colors.pop(),marker=markers.pop())\n",
    "\n",
    "plt.title(\"N-qubit (inverse) QFT, PyQrack\")\n",
    "plt.xlabel(\"Circuit width (qb)\")\n",
    "plt.ylabel(\"Time (s)\")\n",
    "plt.legend([\"GHZ\", \"U3\", \"RCS\"])\n",
    "plt.yscale(\"log\")\n",
    "plt.xticks(np.arange(low, high + 1, step=2))\n",
    "\n",
    "plt.show()"
   ]
  },
  {
   "cell_type": "markdown",
   "id": "0537e921",
   "metadata": {},
   "source": [
    "...In the end, these cases are probably all close to about the hardest we can find. (Different variants of GHZ might also be harder than our supplied and tested case, as wall.)"
   ]
  }
 ],
 "metadata": {
  "kernelspec": {
   "display_name": "Python 3 (ipykernel)",
   "language": "python",
   "name": "python3"
  },
  "language_info": {
   "codemirror_mode": {
    "name": "ipython",
    "version": 3
   },
   "file_extension": ".py",
   "mimetype": "text/x-python",
   "name": "python",
   "nbconvert_exporter": "python",
   "pygments_lexer": "ipython3",
   "version": "3.10.6"
  }
 },
 "nbformat": 4,
 "nbformat_minor": 5
}
