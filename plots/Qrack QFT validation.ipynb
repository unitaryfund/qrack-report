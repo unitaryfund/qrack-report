{
 "cells": [
  {
   "cell_type": "markdown",
   "id": "5f57c8a3",
   "metadata": {},
   "source": [
    "# Qrack Quantum Fourier Transform Validation"
   ]
  },
  {
   "cell_type": "markdown",
   "id": "56aabaf5",
   "metadata": {},
   "source": [
    "We'd like a little more assurance that Qrack's performance reflects _accurate_ behavior on the QFT. If we can trust another simulator as a \"gold standard,\" _regardless of convention_, this should be as simple as running identical circuits on Qrack and the \"gold standard\" and calculating the _inner product between output state vectors_, which should be equal to 1.\n",
    "\n",
    "Mind you, even \"Big Tech\" software has bugs _all the time_, including quantum computer simulator software! (Dan has _found_ them in \"Big Tech\" and other quantum open source software, in the past, but, once identified, they tend to get fixed.) It's not a given, that _any_ simulator should be trusted as a perfect \"gold standard\" simply for the size of the organization that develops it! However, if we go ahead and run this notebook, it's reassuring to see that, up to floating-point error, we _do_ see an inner product of 1 between Qrack's default optimal stack and Qiskit Aer's state vector simulator."
   ]
  },
  {
   "cell_type": "code",
   "execution_count": 1,
   "id": "90b257ae",
   "metadata": {},
   "outputs": [],
   "source": [
    "low = 1\n",
    "high = 12\n",
    "samples = 10"
   ]
  },
  {
   "cell_type": "code",
   "execution_count": 2,
   "id": "1f21a89b",
   "metadata": {},
   "outputs": [],
   "source": [
    "import random\n",
    "import math\n",
    "import numpy as np"
   ]
  },
  {
   "cell_type": "code",
   "execution_count": 3,
   "id": "c8d50805",
   "metadata": {},
   "outputs": [
    {
     "name": "stdout",
     "output_type": "stream",
     "text": [
      "env: QRACK_QUNITMULTI_DEVICES=1\n"
     ]
    }
   ],
   "source": [
    "%env QRACK_QUNITMULTI_DEVICES 1\n",
    "from pyqrack import QrackSimulator, Pauli\n"
   ]
  },
  {
   "cell_type": "markdown",
   "id": "68e25cbe",
   "metadata": {},
   "source": [
    "### Random circuit initialization"
   ]
  },
  {
   "cell_type": "code",
   "execution_count": 4,
   "id": "042a6307",
   "metadata": {},
   "outputs": [],
   "source": [
    "#RCS gates\n",
    "\n",
    "def rand_u3(circ, q):\n",
    "    th = random.uniform(0, 4 * math.pi)\n",
    "    ph = random.uniform(0, 4 * math.pi)\n",
    "    lm = random.uniform(0, 4 * math.pi)\n",
    "    circ.u(th, ph, lm, q)\n",
    "\n",
    "def cx(circ, q1, q2):\n",
    "    circ.cx(q1, q2)\n",
    "\n",
    "def cy(circ, q1, q2):\n",
    "    circ.cy(q1, q2)\n",
    "\n",
    "def cz(circ, q1, q2):\n",
    "    circ.cz(q1, q2)\n",
    "\n",
    "def acx(circ, q1, q2):\n",
    "    circ.x(q1)\n",
    "    circ.cx(q1, q2)\n",
    "    circ.x(q1)\n",
    "\n",
    "def acy(circ, q1, q2):\n",
    "    circ.x(q1)\n",
    "    circ.cy(q1, q2)\n",
    "    circ.x(q1)\n",
    "\n",
    "def acz(circ, q1, q2):\n",
    "    circ.x(q1)\n",
    "    circ.cz(q1, q2)\n",
    "    circ.x(q1)\n",
    "\n",
    "def swap(circ, q1, q2):\n",
    "    circ.swap(q1, q2)\n",
    "\n",
    "two_bit_gates = cx, cz, cy, acx, acz, acy"
   ]
  },
  {
   "cell_type": "code",
   "execution_count": 5,
   "id": "a58fa479",
   "metadata": {},
   "outputs": [
    {
     "name": "stdout",
     "output_type": "stream",
     "text": [
      "Device #0, Loaded binary from: /home/iamu/.qrack/qrack_ocl_dev_Intel(R)_UHD_Graphics_[0x9bc4].ir\n",
      "Device #1, Loaded binary from: /home/iamu/.qrack/qrack_ocl_dev_NVIDIA_GeForce_RTX_3080_Laptop_GPU.ir\n",
      "{1: 0.999999983984473, 2: 0.9999999241049702, 3: 0.9999999636157904, 4: 0.9999999179629275, 5: 0.9999999659089518, 6: 0.9999998122537859, 7: 0.9999998294551355, 8: 0.9999997906687463, 9: 0.9999997893170638, 10: 0.9999999271185116, 11: 0.9999997994980324, 12: 0.9999997494629269}\n"
     ]
    }
   ],
   "source": [
    "from qiskit import QuantumCircuit\n",
    "from qiskit import execute, Aer\n",
    "from qiskit.providers.aer import QasmSimulator\n",
    "\n",
    "def reverse(num_qubits, sim):\n",
    "    start = 0\n",
    "    end = num_qubits - 1\n",
    "    while (start < end):\n",
    "        sim.swap(start, end)\n",
    "        start += 1\n",
    "        end -= 1\n",
    "\n",
    "# Implementation of the Quantum Fourier Transform\n",
    "# (See https://qiskit.org/textbook/ch-algorithms/quantum-fourier-transform.html)\n",
    "def aer_qft(n, circuit):\n",
    "    if n == 0:\n",
    "        return circuit\n",
    "    n -= 1\n",
    "\n",
    "    circuit.h(n)\n",
    "    for qubit in range(n):\n",
    "        circuit.cp(math.pi/2**(n-qubit), qubit, n)\n",
    "\n",
    "    # Recursive QFT is very similiar to a (\"classical\") FFT\n",
    "    aer_qft(n, circuit)\n",
    "\n",
    "sim_backend = QasmSimulator(shots=1, method='statevector_gpu')\n",
    "\n",
    "inner_product_results = {}\n",
    "for n in range(low, high + 1):\n",
    "    sim = QrackSimulator(n)\n",
    "    sim.set_reactive_separate(False)\n",
    "    \n",
    "    width_results = []\n",
    "        \n",
    "    # Run the benchmarks\n",
    "    for i in range(samples):\n",
    "        sim.reset_all()\n",
    "        circ = QuantumCircuit(n, n)\n",
    "        \n",
    "        for i in range(n):\n",
    "            # Single bit gates\n",
    "            for j in range(n):\n",
    "                rand_u3(circ, j)\n",
    "\n",
    "            # Multi bit gates\n",
    "            bit_set = [i for i in range(n)]\n",
    "            while len(bit_set) > 1:\n",
    "                b1 = random.choice(bit_set)\n",
    "                bit_set.remove(b1)\n",
    "                b2 = random.choice(bit_set)\n",
    "                bit_set.remove(b2)\n",
    "                gate = random.choice(two_bit_gates)\n",
    "                gate(circ, b1, b2)\n",
    "\n",
    "        # Qrack can directly parse the Qiskit circuit,\n",
    "        # and there's basically no better guarantee we've implemented this correctly,\n",
    "        # than running exactly the same gates.\n",
    "        sim.run_qiskit_circuit(circ)\n",
    "        \n",
    "        # Qubit order and QFT-vs.-inverse convention are just convention,\n",
    "        # but we also know that sim.qft() does its job correctly in Shor's, (elsewhere).\n",
    "        sim.iqft([i for i in reversed(range(n))])\n",
    "        reverse(n, sim)\n",
    "\n",
    "        qrack_sv = sim.out_ket()\n",
    "\n",
    "        aer_qft(n, circ)\n",
    "        reverse(n, circ)\n",
    "\n",
    "        circ.save_statevector()\n",
    "        job = execute([circ], sim_backend)\n",
    "        aer_sv = np.asarray(job.result().get_statevector())\n",
    "        \n",
    "        width_results.append(np.abs(sum([np.conj(x)*y for x,y in zip(qrack_sv,aer_sv)])))\n",
    "\n",
    "    inner_product_results[n] = sum(width_results) / samples\n",
    "\n",
    "print(inner_product_results)"
   ]
  }
 ],
 "metadata": {
  "kernelspec": {
   "display_name": "Python 3 (ipykernel)",
   "language": "python",
   "name": "python3"
  },
  "language_info": {
   "codemirror_mode": {
    "name": "ipython",
    "version": 3
   },
   "file_extension": ".py",
   "mimetype": "text/x-python",
   "name": "python",
   "nbconvert_exporter": "python",
   "pygments_lexer": "ipython3",
   "version": "3.10.6"
  }
 },
 "nbformat": 4,
 "nbformat_minor": 5
}
