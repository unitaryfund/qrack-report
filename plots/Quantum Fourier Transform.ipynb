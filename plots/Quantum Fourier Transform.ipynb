{
 "cells": [
  {
   "cell_type": "markdown",
   "id": "5f57c8a3",
   "metadata": {},
   "source": [
    "# Quantum Fourier Transform Benchmark"
   ]
  },
  {
   "cell_type": "code",
   "execution_count": 1,
   "id": "90b257ae",
   "metadata": {},
   "outputs": [],
   "source": [
    "low = 1\n",
    "high = 27\n",
    "samples = 10"
   ]
  },
  {
   "cell_type": "code",
   "execution_count": 2,
   "id": "1f21a89b",
   "metadata": {},
   "outputs": [],
   "source": [
    "import time\n",
    "import random\n",
    "import math\n",
    "import numpy as np"
   ]
  },
  {
   "cell_type": "markdown",
   "id": "fb4ef620",
   "metadata": {},
   "source": [
    "## PyQrack"
   ]
  },
  {
   "cell_type": "code",
   "execution_count": 3,
   "id": "c8d50805",
   "metadata": {},
   "outputs": [
    {
     "name": "stdout",
     "output_type": "stream",
     "text": [
      "env: QRACK_QUNITMULTI_DEVICES=1\n"
     ]
    }
   ],
   "source": [
    "%env QRACK_QUNITMULTI_DEVICES 1\n",
    "from pyqrack import QrackSimulator, Pauli\n",
    "\n",
    "def reverse_qrack(sim):\n",
    "    start = 0\n",
    "    end = sim.num_qubits() - 1\n",
    "    while (start < end):\n",
    "        sim.swap(start, end)\n",
    "        start += 1\n",
    "        end -= 1"
   ]
  },
  {
   "cell_type": "markdown",
   "id": "68e25cbe",
   "metadata": {},
   "source": [
    "### |0> initialization"
   ]
  },
  {
   "cell_type": "code",
   "execution_count": 4,
   "id": "a58fa479",
   "metadata": {},
   "outputs": [
    {
     "name": "stdout",
     "output_type": "stream",
     "text": [
      "{1: 0.0001259538003068883, 2: 2.6194099336862565e-05, 3: 1.1022498802049085e-05, 4: 1.2670299474848434e-05, 5: 1.4500998804578558e-05, 6: 2.1379499230533838e-05, 7: 1.8893399828812108e-05, 8: 2.134620153810829e-05, 9: 2.3301101464312524e-05, 10: 2.6072501350427045e-05, 11: 3.237430064473301e-05, 12: 3.093350096605718e-05, 13: 3.3643299684626984e-05, 14: 3.660600050352514e-05, 15: 3.9064300653990355e-05, 16: 4.2470799962757154e-05, 17: 4.5542599400505425e-05, 18: 5.312750145094469e-05, 19: 6.189569903654046e-05, 20: 5.9639400569722055e-05, 21: 6.01206993451342e-05, 22: 7.355180132435634e-05, 23: 6.888580101076514e-05, 24: 7.146100033423863e-05, 25: 7.33088018023409e-05, 26: 7.728690106887371e-05, 27: 8.656760037411005e-05}\n"
     ]
    }
   ],
   "source": [
    "def bench_qrack_0(n):\n",
    "    sim = QrackSimulator(n, isOpenCL=False)\n",
    "    # Permutation basis eigenstate initialization before QFT is \"trivial\" for Qrack.\n",
    "    start = time.perf_counter()\n",
    "    qubits = [i for i in range(n)]\n",
    "    sim.qft(qubits)\n",
    "    reverse_qrack(sim)\n",
    "    sim.m_all()\n",
    "\n",
    "    return time.perf_counter() - start\n",
    "\n",
    "qrack_0_results = {}\n",
    "for n in range(low, high + 1):\n",
    "    width_results = []\n",
    "        \n",
    "    # Run the benchmarks\n",
    "    for i in range(samples):\n",
    "        width_results.append(bench_qrack_0(n))\n",
    "\n",
    "    qrack_0_results[n] = sum(width_results) / samples\n",
    "\n",
    "print(qrack_0_results)"
   ]
  },
  {
   "cell_type": "markdown",
   "id": "4ccd03cb",
   "metadata": {},
   "source": [
    "### Random 1-qubit unitary initialization"
   ]
  },
  {
   "cell_type": "code",
   "execution_count": 5,
   "id": "955011cc",
   "metadata": {},
   "outputs": [
    {
     "name": "stdout",
     "output_type": "stream",
     "text": [
      "Device #0, Loaded binary from: /home/iamu/.qrack/qrack_ocl_dev_Intel(R)_UHD_Graphics_[0x9bc4].ir\n",
      "Device #1, Loaded binary from: /home/iamu/.qrack/qrack_ocl_dev_NVIDIA_GeForce_RTX_3080_Laptop_GPU.ir\n",
      "{1: 7.255301170516759e-06, 2: 8.966710011009127e-05, 3: 0.00019343699896126054, 4: 0.00023128509928938001, 5: 0.0002245663992653135, 6: 0.00036489439953584223, 7: 0.00038095290001365355, 8: 0.0004755372014187742, 9: 0.0006721817990182899, 10: 0.0008079267994617112, 11: 0.0015157900998019613, 12: 0.001897978199122008, 13: 0.0027178260999789925, 14: 0.0029240778989333195, 15: 0.0032650328997988255, 16: 0.003787877599825151, 17: 0.004098802799853729, 18: 0.00488780880041304, 19: 0.005692177501623518, 20: 0.00900803039985476, 21: 0.010699154500616714, 22: 0.01797617950142012, 23: 0.029683881299570204, 24: 0.05517430260006222, 25: 0.09676741429939284, 26: 0.1840585525991628, 27: 0.3697666353997192}\n"
     ]
    }
   ],
   "source": [
    "def bench_qrack(n):\n",
    "    sim = QrackSimulator(n)\n",
    "    # Permutation basis eigenstate initialization before QFT is \"trivial\" for Qrack,\n",
    "    # so we give it a realistic case instead.\n",
    "    for i in range(n):\n",
    "        # Initialize with uniformly random single qubit gates, across full width.\n",
    "        sim.u(i, random.uniform(0, 4 * math.pi), random.uniform(0, 4 * math.pi), random.uniform(0, 4 * math.pi))\n",
    "    start = time.perf_counter()\n",
    "    qubits = [i for i in range(n)]\n",
    "    sim.qft(qubits)\n",
    "    reverse_qrack(sim)\n",
    "    sim.m_all()\n",
    "\n",
    "    return time.perf_counter() - start\n",
    "\n",
    "qrack_results = {}\n",
    "for n in range(low, high + 1):\n",
    "    width_results = []\n",
    "        \n",
    "    # Run the benchmarks\n",
    "    for i in range(samples):\n",
    "        width_results.append(bench_qrack(n))\n",
    "\n",
    "    qrack_results[n] = sum(width_results) / samples\n",
    "\n",
    "print(qrack_results)"
   ]
  },
  {
   "cell_type": "markdown",
   "id": "0008203f",
   "metadata": {},
   "source": [
    "### GHZ state initialization"
   ]
  },
  {
   "cell_type": "code",
   "execution_count": 6,
   "id": "9e742f47",
   "metadata": {},
   "outputs": [
    {
     "name": "stdout",
     "output_type": "stream",
     "text": [
      "{1: 4.0978199103847145e-05, 2: 5.308160107233562e-05, 3: 0.0001863782999862451, 4: 0.0004263114999048412, 5: 0.0005706420008209534, 6: 0.0008252390027337242, 7: 0.0012933823985804339, 8: 0.0020267858992156105, 9: 0.003502880899759475, 10: 0.006029934000252979, 11: 0.012698578202252975, 12: 0.014658257400151342, 13: 0.015474617801373824, 14: 0.01703828940007952, 15: 0.019342201000108618, 16: 0.02215594070221414, 17: 0.02918995159852784, 18: 0.032294207100494535, 19: 0.03674265470035607, 20: 0.03952980419999221, 21: 0.05369433880186989, 22: 0.0682977303986263, 23: 0.10617154249994201, 24: 0.16436891030098194, 25: 0.2938959849991079, 26: 0.5459271662017272, 27: 1.056282505899435}\n"
     ]
    }
   ],
   "source": [
    "def bench_qrack(n):\n",
    "    sim = QrackSimulator(n)\n",
    "    sim.h(0)\n",
    "    for i in range(n - 1):\n",
    "        sim.mcx([i], i + 1)\n",
    "    start = time.perf_counter()\n",
    "    qubits = [i for i in range(n)]\n",
    "    sim.qft(qubits)\n",
    "    reverse_qrack(sim)\n",
    "    sim.m_all()\n",
    "\n",
    "    return time.perf_counter() - start\n",
    "\n",
    "qrack_k_results = {}\n",
    "for n in range(low, high + 1):\n",
    "    width_results = []\n",
    "        \n",
    "    # Run the benchmarks\n",
    "    for i in range(samples):\n",
    "        width_results.append(bench_qrack(n))\n",
    "\n",
    "    qrack_k_results[n] = sum(width_results) / samples\n",
    "\n",
    "print(qrack_k_results)"
   ]
  },
  {
   "cell_type": "markdown",
   "id": "fb0f6651",
   "metadata": {},
   "source": [
    "## FFTW (\"Classical\" DFT)"
   ]
  },
  {
   "cell_type": "code",
   "execution_count": 7,
   "id": "944914bd",
   "metadata": {},
   "outputs": [],
   "source": [
    "# See https://blog.hpc.qmul.ac.uk/pyfftw.html\n",
    "import pyfftw\n",
    "\n",
    "pyfftw.interfaces.cache.enable()\n",
    "pyfftw.interfaces.cache.set_keepalive_time(60)\n",
    "total_time = 0"
   ]
  },
  {
   "cell_type": "markdown",
   "id": "cb22f8c1",
   "metadata": {},
   "source": [
    "### |0> initialization"
   ]
  },
  {
   "cell_type": "code",
   "execution_count": 8,
   "id": "c1d8223e",
   "metadata": {},
   "outputs": [
    {
     "name": "stdout",
     "output_type": "stream",
     "text": [
      "{1: 4.811219987459481e-05, 2: 3.730820099008269e-05, 3: 2.7288600540487097e-05, 4: 4.0652100869920106e-05, 5: 3.275340059190057e-05, 6: 4.016890015918761e-05, 7: 2.3494201013818383e-05, 8: 2.0811099966522305e-05, 9: 2.1665500389644877e-05, 10: 2.1839099645148963e-05, 11: 2.5586700212443246e-05, 12: 8.610239892732352e-05, 13: 6.0098401445429775e-05, 14: 0.00010331709927413613, 15: 0.00019856779908877797, 16: 0.0004160727003181819, 17: 0.0008383628002775368, 18: 0.001979257000493817, 19: 0.007243700399703812, 20: 0.04508926639828133, 21: 0.04507447890064213, 22: 0.06178567819806631, 23: 0.09204879329772667, 24: 0.14838527240062832, 25: 0.25810385970107746, 26: 0.49931204300082754, 27: 1.019850606401451}\n"
     ]
    }
   ],
   "source": [
    "fftw_0_results = {}\n",
    "for n in range(low, high + 1):\n",
    "    width_results = []\n",
    "    for i in range(samples):\n",
    "        io_array = pyfftw.empty_aligned(2**n, dtype=np.complex64)\n",
    "        io_array[0] = 1.\n",
    "        start = time.perf_counter()\n",
    "        pyfftw.interfaces.numpy_fft.fft(io_array, overwrite_input=True, threads = (16 if (n > 19) else 1))\n",
    "        width_results.append(time.perf_counter() - start)\n",
    "\n",
    "    fftw_0_results[n] = sum(width_results) / samples\n",
    "\n",
    "print(fftw_0_results)"
   ]
  },
  {
   "cell_type": "markdown",
   "id": "a16ae35d",
   "metadata": {},
   "source": [
    "### Random 1-qubit unitary initialization"
   ]
  },
  {
   "cell_type": "code",
   "execution_count": 9,
   "id": "96376ade",
   "metadata": {},
   "outputs": [
    {
     "name": "stdout",
     "output_type": "stream",
     "text": [
      "{1: 3.476659912848845e-05, 2: 2.66197974269744e-05, 3: 2.6210500800516455e-05, 4: 2.6263200561515986e-05, 5: 2.5463500060141085e-05, 6: 2.6862500817514956e-05, 7: 2.7784100529970603e-05, 8: 2.8729400219162927e-05, 9: 2.8736299282172694e-05, 10: 3.110700054094195e-05, 11: 3.6305501271272075e-05, 12: 4.417489981278777e-05, 13: 7.286780019057914e-05, 14: 0.00010360359883634373, 15: 0.00020112490019528196, 16: 0.0004404378996696323, 17: 0.0009345197009679396, 18: 0.002134785998350708, 19: 0.008064898799057118, 20: 0.035733333101961764, 21: 0.03817898759953096, 22: 0.06230174930024077, 23: 0.11647265249994235, 24: 0.21382899019808974, 25: 0.39318087579958955, 26: 0.9440640458989946, 27: 2.122314866499073}\n"
     ]
    }
   ],
   "source": [
    "fftw_results = {}\n",
    "for n in range(low, high + 1):\n",
    "    width_results = []\n",
    "    for i in range(samples):\n",
    "        io_array = pyfftw.empty_aligned(2**n, dtype=np.complex64)\n",
    "        \n",
    "        # Use Qrack to initialize the test case!\n",
    "        sim = QrackSimulator(n)\n",
    "        for i in range(n):\n",
    "            # Initialize with uniformly random single qubit gates, across full width.\n",
    "            sim.u(i, random.uniform(0, 4 * math.pi), random.uniform(0, 4 * math.pi), random.uniform(0, 4 * math.pi))\n",
    "        ket = sim.out_ket()\n",
    "        del sim\n",
    "        for i in range(2**n):\n",
    "            io_array[i] = ket[i]\n",
    "        del ket\n",
    "        \n",
    "        start = time.perf_counter()\n",
    "        pyfftw.interfaces.numpy_fft.fft(io_array, overwrite_input=True, threads = (16 if (n > 19) else 1))\n",
    "        width_results.append(time.perf_counter() - start)\n",
    "\n",
    "    fftw_results[n] = sum(width_results) / samples\n",
    "\n",
    "print(fftw_results)"
   ]
  },
  {
   "cell_type": "markdown",
   "id": "1d056607",
   "metadata": {},
   "source": [
    "### GHZ initialization"
   ]
  },
  {
   "cell_type": "code",
   "execution_count": 10,
   "id": "3083cdaa",
   "metadata": {},
   "outputs": [
    {
     "name": "stdout",
     "output_type": "stream",
     "text": [
      "{1: 4.931109942845069e-05, 2: 3.165390007779934e-05, 3: 4.2846000724239275e-05, 4: 2.931609924416989e-05, 5: 1.924009920912795e-05, 6: 5.029550011386164e-05, 7: 1.8657900363905354e-05, 8: 1.9606399291660637e-05, 9: 1.826370062190108e-05, 10: 4.2104299063794314e-05, 11: 9.430340069229714e-05, 12: 3.4861299354815856e-05, 13: 0.00015299270089599303, 14: 8.979570120573043e-05, 15: 0.00017865449990495108, 16: 0.0003463868015387561, 17: 0.0008620079002866987, 18: 0.0018982736990437842, 19: 0.007590904899552697, 20: 0.04445771870159661, 21: 0.051099348200659735, 22: 0.06375993320034468, 23: 0.09140740770017146, 24: 0.14535723340086407, 25: 0.2562623840007291, 26: 0.5027156977994309, 27: 0.9575109543999133}\n"
     ]
    }
   ],
   "source": [
    "fftw_k_results = {}\n",
    "for n in range(low, high + 1):\n",
    "    width_results = []\n",
    "    for i in range(samples):\n",
    "        io_array = pyfftw.empty_aligned(2**n, dtype=np.complex64)\n",
    "        io_array[0] = 1 / math.sqrt(2)\n",
    "        io_array[2**n - 1] = 1 / math.sqrt(2)\n",
    "        start = time.perf_counter()\n",
    "        pyfftw.interfaces.numpy_fft.fft(io_array, overwrite_input=True, threads = (16 if (n > 19) else 1))\n",
    "        width_results.append(time.perf_counter() - start)\n",
    "\n",
    "    fftw_k_results[n] = sum(width_results) / samples\n",
    "\n",
    "print(fftw_k_results)"
   ]
  },
  {
   "cell_type": "markdown",
   "id": "0993b6d5",
   "metadata": {},
   "source": [
    "## Qiskit Aer"
   ]
  },
  {
   "cell_type": "code",
   "execution_count": 11,
   "id": "4db7aa58",
   "metadata": {},
   "outputs": [
    {
     "name": "stdout",
     "output_type": "stream",
     "text": [
      "{1: 0.0040408134991594125, 2: 0.0038083241990534587, 3: 0.004935220301558729, 4: 0.005604743998264894, 5: 0.006579184300062479, 6: 0.007555933899857337, 7: 0.008309486999496584, 8: 0.009329735798382898, 9: 0.010083982400828972, 10: 0.010913049599912484, 11: 0.012050660300155868, 12: 0.013044205598998816, 13: 0.016800459399382815, 14: 0.015445972799352604, 15: 0.018070685901329854, 16: 0.019212737597990782, 17: 0.02037458819904714, 18: 0.022498083700338612, 19: 0.026476954000099796, 20: 0.03264390430122148, 21: 0.04779343769987463, 22: 0.06718772280000848, 23: 0.11073179749946575, 24: 0.20799590879978497, 25: 0.41458723860050667, 26: 0.8483949067012873, 27: 1.750229026600573}\n"
     ]
    }
   ],
   "source": [
    "from qiskit import QuantumCircuit\n",
    "from qiskit import execute, Aer\n",
    "from qiskit.providers.aer import QasmSimulator\n",
    "\n",
    "def reverse_aer(num_qubits, circ):\n",
    "    start = 0\n",
    "    end = num_qubits - 1\n",
    "    while (start < end):\n",
    "        circ.swap(start, end)\n",
    "        start += 1\n",
    "        end -= 1\n",
    "\n",
    "# Implementation of the Quantum Fourier Transform\n",
    "def aer_qft(num_qubits, circ):\n",
    "    # Quantum Fourier Transform\n",
    "    for j in range(num_qubits):\n",
    "        for k in range(j):\n",
    "            circ.cp(math.pi/float(2**(j-k)), j, k)\n",
    "        circ.h(j)\n",
    "    reverse_aer(num_qubits, circ)\n",
    "    for j in range(num_qubits):\n",
    "        circ.measure(j, j)\n",
    "\n",
    "    return circ\n",
    "\n",
    "sim_backend = QasmSimulator(shots=1, method='statevector_gpu')\n",
    "\n",
    "def bench_aer(num_qubits):\n",
    "    circ = QuantumCircuit(num_qubits, num_qubits)\n",
    "    aer_qft(num_qubits, circ)\n",
    "    start = time.perf_counter()\n",
    "    job = execute([circ], sim_backend, timeout=600)\n",
    "    result = job.result()\n",
    "    return time.perf_counter() - start\n",
    "\n",
    "aer_results = {}\n",
    "for n in range(low, high + 1):\n",
    "    width_results = []\n",
    "        \n",
    "    # Run the benchmarks\n",
    "    for i in range(samples):\n",
    "        width_results.append(bench_aer(n))\n",
    "\n",
    "    aer_results[n] = sum(width_results) / samples\n",
    "\n",
    "print(aer_results)"
   ]
  },
  {
   "cell_type": "markdown",
   "id": "d52186ae",
   "metadata": {},
   "source": [
    "## Qulacs"
   ]
  },
  {
   "cell_type": "code",
   "execution_count": 12,
   "id": "f785a774",
   "metadata": {},
   "outputs": [
    {
     "name": "stdout",
     "output_type": "stream",
     "text": [
      "{1: 0.00026662400050554426, 2: 0.0003461417007201817, 3: 0.0005004820981412194, 4: 0.0008263969000836368, 5: 0.0009973871005058755, 6: 0.0012388369985274039, 7: 0.0016485457999806385, 8: 0.0016231905996392016, 9: 0.0019415545000811107, 10: 0.0022212564006622417, 11: 0.002691702298761811, 12: 0.0032888795984035825, 13: 0.003536625399283366, 14: 0.004138559999410063, 15: 0.004223826099769212, 16: 0.007239833600760903, 17: 0.011244605699903331, 18: 0.015157984100369504, 19: 0.02556142099929275, 20: 0.046818170699407344, 21: 0.09315537419970496, 22: 0.18118212420013152, 23: 0.35784866890026024, 24: 0.6983572639997874, 25: 1.4196050380000087, 26: 2.9543034671005444, 27: 6.023129582601541}\n"
     ]
    }
   ],
   "source": [
    "import qulacs\n",
    "\n",
    "def reverse_qulacs(num_qubits, circ):\n",
    "    start = 0\n",
    "    end = num_qubits - 1\n",
    "    while (start < end):\n",
    "        circ.add_gate(qulacs.gate.SWAP(start, end))\n",
    "        start += 1\n",
    "        end -= 1\n",
    "\n",
    "def get_rotz(exponent: float) -> np.ndarray:\n",
    "    return np.diag([1., np.exp(1.j * np.pi * exponent)])\n",
    "\n",
    "def bench_qulacs(n):\n",
    "    sim = qulacs.QuantumStateGpu(n)\n",
    "    circ = qulacs.QuantumCircuit(n)\n",
    "    start = time.perf_counter()\n",
    "\n",
    "    for j in range(n):\n",
    "        for k in range(j):\n",
    "            mat = get_rotz(math.pi/float(2**(j-k)))\n",
    "            gate = qulacs.gate.DenseMatrix(k, mat)\n",
    "            gate.add_control_qubit(j, 1)\n",
    "            circ.add_gate(gate)\n",
    "        circ.add_gate(qulacs.gate.H(j))\n",
    "    reverse_qulacs(n, circ)\n",
    "    for index in range(n):\n",
    "        circ.add_gate(qulacs.gate.Measurement(index, index))\n",
    "\n",
    "    circ.update_quantum_state(sim)\n",
    "\n",
    "    return time.perf_counter() - start\n",
    "\n",
    "qulacs_results = {}\n",
    "for n in range(low, high + 1):\n",
    "    width_results = []\n",
    "        \n",
    "    # Run the benchmarks\n",
    "    for i in range(samples):\n",
    "        width_results.append(bench_qulacs(n))\n",
    "\n",
    "    qulacs_results[n] = sum(width_results) / samples\n",
    "\n",
    "print(qulacs_results)"
   ]
  },
  {
   "cell_type": "markdown",
   "id": "b97a4454",
   "metadata": {},
   "source": [
    "## QCGPU"
   ]
  },
  {
   "cell_type": "code",
   "execution_count": 13,
   "id": "ae7bff83",
   "metadata": {},
   "outputs": [
    {
     "name": "stdout",
     "output_type": "stream",
     "text": [
      "env: PYOPENCL_CTX=1\n"
     ]
    }
   ],
   "source": [
    "%env PYOPENCL_CTX 1"
   ]
  },
  {
   "cell_type": "code",
   "execution_count": 14,
   "id": "67a16d0d",
   "metadata": {},
   "outputs": [
    {
     "name": "stdout",
     "output_type": "stream",
     "text": [
      "{1: 0.0012106278001738247, 2: 0.0025262652001401876, 3: 0.0026878743010456674, 4: 0.004331886699219467, 5: 0.005561603099340573, 6: 0.007048522600962314, 7: 0.007929704999696696, 8: 0.009564954199595377, 9: 0.010942662500747246, 10: 0.01288679899953422, 11: 0.015474901200650492, 12: 0.018708950399013703, 13: 0.02157499760069186, 14: 0.024808585501159542, 15: 0.028259393098414874, 16: 0.03201712580048479, 17: 0.036060876700503286, 18: 0.04600565750079113, 19: 0.049080436500662475, 20: 0.058835771399753864, 21: 0.076249901700794, 22: 0.1037423787987791, 23: 0.17294347349961753, 24: 0.3550135568002588, 25: 0.7229957103976631, 26: 1.5119469584009493, 27: 3.1266679840002327}\n"
     ]
    }
   ],
   "source": [
    "import qcgpu\n",
    "\n",
    "def swap_qcgpu(circ, q1, q2):\n",
    "    circ.cx(q1, q2)\n",
    "    circ.cx(q2, q1)\n",
    "    circ.cx(q1, q2)\n",
    "    \n",
    "def reverse_qcgpu(num_qubits, circ):\n",
    "    start = 0\n",
    "    end = num_qubits - 1\n",
    "    while (start < end):\n",
    "        swap_qcgpu(circ, start, end)\n",
    "        start += 1\n",
    "        end -= 1\n",
    "\n",
    "def bench_qcgpu(num_qubits):\n",
    "    state = qcgpu.State(num_qubits)\n",
    "    start = time.perf_counter()\n",
    " \n",
    "    for j in range(num_qubits):\n",
    "        for k in range(j):\n",
    "            state.cu1(j, k, math.pi/float(2**(j-k)))\n",
    "        state.h(j)\n",
    "    reverse_qcgpu(num_qubits, state)\n",
    "    state.measure()\n",
    "\n",
    "    state.backend.queue.finish()\n",
    "    return time.perf_counter() - start\n",
    "\n",
    "qcgpu_results = {}\n",
    "for n in range(low, high + 1):\n",
    "    width_results = []\n",
    "         \n",
    "    # Run the benchmarks\n",
    "    for i in range(samples):\n",
    "        width_results.append(bench_qcgpu(n))\n",
    "\n",
    "    qcgpu_results[n] = sum(width_results) / samples\n",
    "\n",
    "print(qcgpu_results)"
   ]
  },
  {
   "cell_type": "markdown",
   "id": "86c9e143",
   "metadata": {},
   "source": [
    "## Results"
   ]
  },
  {
   "cell_type": "code",
   "execution_count": 15,
   "id": "976910d6",
   "metadata": {},
   "outputs": [
    {
     "data": {
      "image/png": "[encoded data removed]",
      "text/plain": [
       "<Figure size 1008x1008 with 1 Axes>"
      ]
     },
     "metadata": {
      "needs_background": "light"
     },
     "output_type": "display_data"
    }
   ],
   "source": [
    "import matplotlib.pyplot as plt\n",
    "\n",
    "fig = plt.gcf()\n",
    "fig.set_size_inches(14, 14)\n",
    "\n",
    "colors = list(\"kcymbgr\")\n",
    "\n",
    "x = qrack_0_results.keys()\n",
    "y = qrack_0_results.values()\n",
    "plt.scatter(x,y,color=colors.pop())\n",
    "\n",
    "x = aer_results.keys()\n",
    "y = aer_results.values()\n",
    "plt.scatter(x,y,color=colors.pop())\n",
    "\n",
    "x = qulacs_results.keys()\n",
    "y = qulacs_results.values()\n",
    "plt.scatter(x,y,color=colors.pop())\n",
    "\n",
    "x = qcgpu_results.keys()\n",
    "y = qcgpu_results.values()\n",
    "plt.scatter(x,y,color=colors.pop())\n",
    "\n",
    "x = fftw_0_results.keys()\n",
    "y = fftw_0_results.values()\n",
    "plt.scatter(x,y,color=colors.pop())\n",
    "\n",
    "plt.title(\"N-qubit QFT\")\n",
    "plt.xlabel(\"Circuit width (qb)\")\n",
    "plt.ylabel(\"Time (s)\")\n",
    "plt.legend([\"PyQrack (|0> init.)\", \"Qiskit Aer (|0> init.)\", \"Qulacs (|0> init.)\", \"QCGPU (|0> init.)\", \"pyFFTW (|0> init.)\"])\n",
    "plt.yscale(\"log\")\n",
    "plt.xticks(np.arange(low, high + 1, step=1))\n",
    "\n",
    "plt.show()\n",
    "\n",
    "fig.savefig('qft_0_chart.png', dpi=100)"
   ]
  },
  {
   "cell_type": "code",
   "execution_count": 16,
   "id": "f7ac2c65",
   "metadata": {},
   "outputs": [
    {
     "data": {
      "image/png": "[encoded data removed]",
      "text/plain": [
       "<Figure size 1008x1008 with 1 Axes>"
      ]
     },
     "metadata": {
      "needs_background": "light"
     },
     "output_type": "display_data"
    }
   ],
   "source": [
    "import matplotlib.pyplot as plt\n",
    "\n",
    "fig = plt.gcf()\n",
    "fig.set_size_inches(14, 14)\n",
    "\n",
    "colors = list(\"cymbgr\")\n",
    "\n",
    "x = qrack_0_results.keys()\n",
    "y = qrack_0_results.values()\n",
    "plt.scatter(x,y,color=colors.pop())\n",
    "\n",
    "x = qrack_results.keys()\n",
    "y = qrack_results.values()\n",
    "plt.scatter(x,y,color=colors.pop())\n",
    "\n",
    "x = qrack_k_results.keys()\n",
    "y = qrack_k_results.values()\n",
    "plt.scatter(x,y,color=colors.pop())\n",
    "\n",
    "x = fftw_0_results.keys()\n",
    "y = fftw_0_results.values()\n",
    "plt.scatter(x,y,color=colors.pop())\n",
    "\n",
    "x = fftw_results.keys()\n",
    "y = fftw_results.values()\n",
    "plt.scatter(x,y,color=colors.pop())\n",
    "\n",
    "x = fftw_k_results.keys()\n",
    "y = fftw_k_results.values()\n",
    "plt.scatter(x,y,color=colors.pop())\n",
    "\n",
    "plt.title(\"N-qubit QFT\")\n",
    "plt.xlabel(\"Circuit width (qb)\")\n",
    "plt.ylabel(\"Time (s)\")\n",
    "plt.legend([\"PyQrack (|0> init.)\", \"PyQrack (Rand. 1 qb init.)\", \"PyQrack (GHZ init.)\", \"pyFFTW (0 init.)\", \"pyFFTW (Rand 1 qb init.)\", \"pyFFTW (GHZ init.)\"])\n",
    "plt.yscale(\"log\")\n",
    "plt.xticks(np.arange(low, high + 1, step=1))\n",
    "\n",
    "plt.show()\n",
    "\n",
    "fig.savefig('qft_ghz_chart.png', dpi=100)"
   ]
  },
  {
   "cell_type": "code",
   "execution_count": 17,
   "id": "bec59c1d",
   "metadata": {},
   "outputs": [
    {
     "name": "stdout",
     "output_type": "stream",
     "text": [
      "x86_64\n",
      "#33~22.04.1-Ubuntu SMP PREEMPT_DYNAMIC Mon Jan 30 17:03:34 UTC 2\n",
      "Linux-5.19.0-32-generic-x86_64-with-glibc2.35\n",
      "uname_result(system='Linux', node='sekhmet', release='5.19.0-32-generic', version='#33~22.04.1-Ubuntu SMP PREEMPT_DYNAMIC Mon Jan 30 17:03:34 UTC 2', machine='x86_64')\n",
      "Linux\n",
      "x86_64\n"
     ]
    }
   ],
   "source": [
    "import platform\n",
    "\n",
    "print(platform.machine())\n",
    "print(platform.version())\n",
    "print(platform.platform())\n",
    "print(platform.uname())\n",
    "print(platform.system())\n",
    "print(platform.processor())"
   ]
  },
  {
   "cell_type": "code",
   "execution_count": 18,
   "id": "174ee311",
   "metadata": {},
   "outputs": [
    {
     "name": "stdout",
     "output_type": "stream",
     "text": [
      "NVIDIA GeForce RTX 3080 Laptop GPU\n"
     ]
    }
   ],
   "source": [
    "import subprocess\n",
    "\n",
    "line_as_bytes = subprocess.check_output(\"nvidia-smi -L\", shell=True)\n",
    "line = line_as_bytes.decode(\"ascii\")\n",
    "_, line = line.split(\":\", 1)\n",
    "line, _ = line.split(\"(\")\n",
    "print(line.strip())"
   ]
  },
  {
   "cell_type": "code",
   "execution_count": 19,
   "id": "92fd5924",
   "metadata": {},
   "outputs": [
    {
     "data": {
      "text/plain": [
       "'Intel(R) Core(TM) i9-10980HK CPU @ 2.40GHz'"
      ]
     },
     "execution_count": 19,
     "metadata": {},
     "output_type": "execute_result"
    }
   ],
   "source": [
    "import cpuinfo\n",
    "cpuinfo.get_cpu_info()['brand_raw']"
   ]
  }
 ],
 "metadata": {
  "kernelspec": {
   "display_name": "Python 3 (ipykernel)",
   "language": "python",
   "name": "python3"
  },
  "language_info": {
   "codemirror_mode": {
    "name": "ipython",
    "version": 3
   },
   "file_extension": ".py",
   "mimetype": "text/x-python",
   "name": "python",
   "nbconvert_exporter": "python",
   "pygments_lexer": "ipython3",
   "version": "3.10.6"
  }
 },
 "nbformat": 4,
 "nbformat_minor": 5
}
