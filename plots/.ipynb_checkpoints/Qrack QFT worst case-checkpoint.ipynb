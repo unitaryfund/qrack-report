{
 "cells": [
  {
   "cell_type": "markdown",
   "id": "5f57c8a3",
   "metadata": {},
   "source": [
    "# Qrack Quantum Fourier Transform Validation"
   ]
  },
  {
   "cell_type": "markdown",
   "id": "56aabaf5",
   "metadata": {},
   "source": [
    "How do we know that a GHZ state is Qrack's hardest initialization case for the QFT? We can test this, with random circuits. However, it helps to explain our best guesses at hypothetical hardest cases, first.\n",
    "\n",
    "Because Qrack attempts to factorize its interacting qubit systems to the smallest possible separable subsystems, we anticipate two major factors to contribute to overhead scaling: overhead scales exponentially with subsystem width, but combining factorized subsystems (to interact) also requires a **Kronecker product** operation, which is a source of overhead \"naive\" state vector simulation never needs at all.\n",
    "\n",
    "Hence, there are two obvious (nonexclusive) possibilities to consider for the most expensive case. The most expensive case might be any that starts as a full-width, unfactorized state vector simulation, since it derives no benefit relative to \"naive\" state vector simulation, from Qrack's substate factorization capabilities. Alternatively, it's plausible that a state that starts _fully_ factorized into single qubits, but which we can be sure to _end up as a full-width state vector_, might pay more cost in Kronecker product overhead than overhead saved by any temporary factorization.\n",
    "\n",
    "The second case might actually be worse than GHZ at middle and low qubit widths, relative the maximum allocation segment of a typical 2023 NVIDIA GeForce GPU. GHZ has been found to be the worse of the two at higher widths.\n",
    "\n",
    "However, can we randomly guess any harder cases than these, with RCS? (We try this, below.)"
   ]
  },
  {
   "cell_type": "code",
   "execution_count": 1,
   "id": "90b257ae",
   "metadata": {},
   "outputs": [],
   "source": [
    "low = 1\n",
    "high = 27\n",
    "samples = 10"
   ]
  },
  {
   "cell_type": "code",
   "execution_count": 2,
   "id": "c8d50805",
   "metadata": {},
   "outputs": [
    {
     "name": "stdout",
     "output_type": "stream",
     "text": [
      "env: QRACK_QUNITMULTI_DEVICES=1\n"
     ]
    }
   ],
   "source": [
    "%env QRACK_QUNITMULTI_DEVICES 1\n",
    "import time\n",
    "from pyqrack import QrackSimulator, Pauli"
   ]
  },
  {
   "cell_type": "code",
   "execution_count": 3,
   "id": "d495e049",
   "metadata": {},
   "outputs": [],
   "source": [
    "def reverse_qrack(sim):\n",
    "    start = 0\n",
    "    end = sim.num_qubits() - 1\n",
    "    while (start < end):\n",
    "        sim.swap(start, end)\n",
    "        start += 1\n",
    "        end -= 1\n",
    "\n",
    "def qrack_qft(sim, n):\n",
    "    sim.iqft([i for i in reversed(range(n))])\n",
    "    reverse_qrack(sim)\n",
    "    sim.m_all()\n",
    "\n",
    "def rand_u3(sim, q):\n",
    "    th = random.uniform(0, 4 * math.pi)\n",
    "    ph = random.uniform(0, 4 * math.pi)\n",
    "    lm = random.uniform(0, 4 * math.pi)\n",
    "    sim.u(q, th, ph, lm)"
   ]
  },
  {
   "cell_type": "markdown",
   "id": "b73d830e",
   "metadata": {},
   "source": [
    "## GHZ initialization"
   ]
  },
  {
   "cell_type": "code",
   "execution_count": 4,
   "id": "9c5009fa",
   "metadata": {},
   "outputs": [
    {
     "name": "stdout",
     "output_type": "stream",
     "text": [
      "Device #0, Loaded binary from: /home/iamu/.qrack/qrack_ocl_dev_Intel(R)_UHD_Graphics_[0x9bc4].ir\n",
      "Device #1, Loaded binary from: /home/iamu/.qrack/qrack_ocl_dev_NVIDIA_GeForce_RTX_3080_Laptop_GPU.ir\n",
      "{1: 9.97480019577779e-06, 2: 3.129239976260578e-05, 3: 0.0001616241999727208, 4: 0.00023862719990574988, 5: 0.00014133229979051976, 6: 0.00015190030044323066, 7: 0.00017623650019231717, 8: 0.00022587660005228826, 9: 0.00031020189981063596, 10: 0.00048259830018650975, 11: 0.001644542000576621, 12: 0.0019463545993858133, 13: 0.002483275500162563, 14: 0.0025677849998828606, 15: 0.0030364288997589027, 16: 0.0035061608996329596, 17: 0.0036311267002020033, 18: 0.004238252700088196, 19: 0.005977543300286925, 20: 0.00903037209991453, 21: 0.01542953900006978, 22: 0.027524902900404415, 23: 0.055617779600652284, 24: 0.10715905870001734, 25: 0.21751651060021687, 26: 0.4487994309998612, 27: 0.9274191280002924}\n"
     ]
    }
   ],
   "source": [
    "def bench_ghz_qrack(n):\n",
    "    sim = QrackSimulator(n)\n",
    "    sim.set_reactive_separate(False)\n",
    "\n",
    "    # GHZ init\n",
    "    sim.h(0)\n",
    "    for i in range(n - 1):\n",
    "        sim.mcx([i], i + 1)\n",
    "\n",
    "    # Block and complete queued operations by reading output on all qubits.\n",
    "    for i in range(n):\n",
    "        sim.prob(i)\n",
    "\n",
    "    # Start timer and run (inverse) QFT\n",
    "    start = time.perf_counter()\n",
    "    qrack_qft(sim, n)\n",
    "\n",
    "    return time.perf_counter() - start\n",
    "\n",
    "qrack_ghz_results = {}\n",
    "for n in range(low, high + 1):\n",
    "    width_results = []\n",
    "        \n",
    "    # Run the benchmarks\n",
    "    for i in range(samples):\n",
    "        width_results.append(bench_ghz_qrack(n))\n",
    "\n",
    "    qrack_ghz_results[n] = sum(width_results) / samples\n",
    "\n",
    "print(qrack_ghz_results)"
   ]
  },
  {
   "cell_type": "markdown",
   "id": "f93b384a",
   "metadata": {},
   "source": [
    "## Randomized single separable qubits initialization"
   ]
  },
  {
   "cell_type": "code",
   "execution_count": 5,
   "id": "cffe4354",
   "metadata": {},
   "outputs": [
    {
     "name": "stdout",
     "output_type": "stream",
     "text": [
      "{1: 2.642840026965132e-05, 2: 6.049799958418589e-05, 3: 0.0002367054003116209, 4: 0.00028806939990317916, 5: 0.00022131240020826227, 6: 0.00025352980010211467, 7: 0.00029302109996933725, 8: 0.00036425069993129, 9: 0.0004823145001864759, 10: 0.0007509085000492633, 11: 0.002336073099831992, 12: 0.002758548999554478, 13: 0.0033831966002253466, 14: 0.003632333399946219, 15: 0.003996785999879649, 16: 0.004241449399705744, 17: 0.00460858599999483, 18: 0.005177251600071031, 19: 0.005878144800044538, 20: 0.00944404529982421, 21: 0.016395721200206027, 22: 0.029239810099716122, 23: 0.05689505910013395, 24: 0.10682156420025421, 25: 0.21825817470034964, 26: 0.45102608730012433, 27: 0.9271768053000414}\n"
     ]
    }
   ],
   "source": [
    "def bench_u3_qrack(n):\n",
    "    sim = QrackSimulator(n)\n",
    "    sim.set_reactive_separate(False)\n",
    "\n",
    "    # U3 init\n",
    "    for i in range(n):\n",
    "        rand_u3(sim, i)\n",
    "\n",
    "    # Block and complete queued operations by reading output on all qubits.\n",
    "    for i in range(n):\n",
    "        sim.prob(i)\n",
    "\n",
    "    # Start timer and run (inverse) QFT\n",
    "    start = time.perf_counter()\n",
    "    qrack_qft(sim, n)\n",
    "\n",
    "    return time.perf_counter() - start\n",
    "\n",
    "qrack_u3_results = {}\n",
    "for n in range(low, high + 1):\n",
    "    width_results = []\n",
    "        \n",
    "    # Run the benchmarks\n",
    "    for i in range(samples):\n",
    "        width_results.append(bench_ghz_qrack(n))\n",
    "\n",
    "    qrack_u3_results[n] = sum(width_results) / samples\n",
    "\n",
    "print(qrack_u3_results)"
   ]
  },
  {
   "cell_type": "markdown",
   "id": "68e25cbe",
   "metadata": {},
   "source": [
    "## Random circuit initialization"
   ]
  },
  {
   "cell_type": "code",
   "execution_count": 6,
   "id": "ba8cca35",
   "metadata": {},
   "outputs": [],
   "source": [
    "import random\n",
    "import math\n",
    "import numpy as np"
   ]
  },
  {
   "cell_type": "code",
   "execution_count": 7,
   "id": "042a6307",
   "metadata": {},
   "outputs": [],
   "source": [
    "#RCS gates\n",
    "\n",
    "def cx(sim, q1, q2):\n",
    "    sim.mcx([q1], q2)\n",
    "\n",
    "def cy(sim, q1, q2):\n",
    "    sim.mcy([q1], q2)\n",
    "\n",
    "def cz(sim, q1, q2):\n",
    "    sim.mcz([q1], q2)\n",
    "\n",
    "def acx(sim, q1, q2):\n",
    "    sim.macx([q1], q2)\n",
    "\n",
    "def acy(sim, q1, q2):\n",
    "    sim.macy([q1], q2)\n",
    "\n",
    "def acz(sim, q1, q2):\n",
    "    sim.macz([q1], q2)\n",
    "\n",
    "def swap(sim, q1, q2):\n",
    "    sim.swap(q1, q2)\n",
    "\n",
    "two_bit_gates = cx, cz, cy, acx, acz, acy"
   ]
  },
  {
   "cell_type": "code",
   "execution_count": 8,
   "id": "51ce9199",
   "metadata": {},
   "outputs": [
    {
     "name": "stdout",
     "output_type": "stream",
     "text": [
      "{1: 4.652969982998911e-05, 2: 5.108689983899239e-05, 3: 0.00015359830013039755, 4: 0.00013818429979437497, 5: 0.00016684239999449347, 6: 0.00020124200000282144, 7: 0.00025738430031196913, 8: 0.0003352293999341782, 9: 0.00047607690012227975, 10: 0.0007728103000772535, 11: 0.0021822599999723026, 12: 0.002635748400098237, 13: 0.002879911000127322, 14: 0.003321984500144026, 15: 0.0037169799996263466, 16: 0.004102958200383, 17: 0.004755190699688683, 18: 0.005186452000270947, 19: 0.005250804199931736, 20: 0.009036019599989231, 21: 0.01596080080016691, 22: 0.028320690599866794, 23: 0.05543374530025176, 24: 0.11272099800044089, 25: 0.2292919602001348, 26: 0.4696182660001796, 27: 0.9627031112999248}\n"
     ]
    }
   ],
   "source": [
    "def bench_rcs_qrack(n):\n",
    "    sim = QrackSimulator(n)\n",
    "    sim.set_reactive_separate(False)\n",
    "\n",
    "    # RCS init\n",
    "    for i in range(n):\n",
    "        # Single bit gates\n",
    "        for j in range(n):\n",
    "            rand_u3(sim, j)\n",
    "\n",
    "        # Multi bit gates\n",
    "        bit_set = [i for i in range(n)]\n",
    "        while len(bit_set) > 1:\n",
    "            b1 = random.choice(bit_set)\n",
    "            bit_set.remove(b1)\n",
    "            b2 = random.choice(bit_set)\n",
    "            bit_set.remove(b2)\n",
    "            gate = random.choice(two_bit_gates)\n",
    "            gate(sim, b1, b2)\n",
    "\n",
    "    # Block and complete queued operations by reading output on all qubits.\n",
    "    for i in range(n):\n",
    "        sim.prob(i)\n",
    "\n",
    "    # Start timer and run (inverse) QFT\n",
    "    start = time.perf_counter()\n",
    "    qrack_qft(sim, n)\n",
    "\n",
    "    return time.perf_counter() - start\n",
    "\n",
    "qrack_rcs_results = {}\n",
    "for n in range(low, high + 1):\n",
    "    width_results = []\n",
    "        \n",
    "    # Run the benchmarks\n",
    "    for i in range(samples):\n",
    "        width_results.append(bench_rcs_qrack(n))\n",
    "\n",
    "    qrack_rcs_results[n] = sum(width_results) / samples\n",
    "\n",
    "print(qrack_rcs_results)"
   ]
  },
  {
   "cell_type": "markdown",
   "id": "27a307ad",
   "metadata": {},
   "source": [
    "## Results"
   ]
  },
  {
   "cell_type": "code",
   "execution_count": 9,
   "id": "7403fe28",
   "metadata": {},
   "outputs": [
    {
     "data": {
      "image/png": "[encoded data removed]",
      "text/plain": [
       "<Figure size 1008x1008 with 1 Axes>"
      ]
     },
     "metadata": {
      "needs_background": "light"
     },
     "output_type": "display_data"
    }
   ],
   "source": [
    "import matplotlib.pyplot as plt\n",
    "\n",
    "fig = plt.gcf()\n",
    "fig.set_size_inches(14, 14)\n",
    "plt.rc('legend',fontsize=28)\n",
    "plt.rcParams.update({'font.size': 28, 'lines.markersize': 12})\n",
    "\n",
    "colors = list(\"kcymbgr\")\n",
    "markers = list(\"D*PX^so\")\n",
    "\n",
    "x = qrack_ghz_results.keys()\n",
    "y = qrack_ghz_results.values()\n",
    "plt.scatter(x,y,color=colors.pop(),marker=markers.pop())\n",
    "\n",
    "x = qrack_u3_results.keys()\n",
    "y = qrack_u3_results.values()\n",
    "plt.scatter(x,y,color=colors.pop(),marker=markers.pop())\n",
    "\n",
    "x = qrack_rcs_results.keys()\n",
    "y = qrack_rcs_results.values()\n",
    "plt.scatter(x,y,color=colors.pop(),marker=markers.pop())\n",
    "\n",
    "plt.title(\"N-qubit (inverse) QFT, PyQrack\")\n",
    "plt.xlabel(\"Circuit width (qb)\")\n",
    "plt.ylabel(\"Time (s)\")\n",
    "plt.legend([\"GHZ\", \"U3\", \"RCS\"])\n",
    "plt.yscale(\"log\")\n",
    "plt.xticks(np.arange(low, high + 1, step=2))\n",
    "\n",
    "plt.show()"
   ]
  },
  {
   "cell_type": "markdown",
   "id": "0537e921",
   "metadata": {},
   "source": [
    "...In the end, these cases are probably all close to about the hardest we can find. (Different variants of GHZ might also be harder than our supplied and tested case, as wall.)"
   ]
  }
 ],
 "metadata": {
  "kernelspec": {
   "display_name": "Python 3 (ipykernel)",
   "language": "python",
   "name": "python3"
  },
  "language_info": {
   "codemirror_mode": {
    "name": "ipython",
    "version": 3
   },
   "file_extension": ".py",
   "mimetype": "text/x-python",
   "name": "python",
   "nbconvert_exporter": "python",
   "pygments_lexer": "ipython3",
   "version": "3.10.6"
  }
 },
 "nbformat": 4,
 "nbformat_minor": 5
}
