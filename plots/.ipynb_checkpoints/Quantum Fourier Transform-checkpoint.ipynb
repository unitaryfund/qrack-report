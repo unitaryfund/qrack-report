{
 "cells": [
  {
   "cell_type": "markdown",
   "id": "5f57c8a3",
   "metadata": {},
   "source": [
    "# Quantum Fourier Transform Benchmark"
   ]
  },
  {
   "cell_type": "code",
   "execution_count": 1,
   "id": "90b257ae",
   "metadata": {},
   "outputs": [],
   "source": [
    "low = 1\n",
    "high = 27\n",
    "samples = 10"
   ]
  },
  {
   "cell_type": "code",
   "execution_count": 2,
   "id": "1f21a89b",
   "metadata": {},
   "outputs": [],
   "source": [
    "import time\n",
    "import random\n",
    "import math"
   ]
  },
  {
   "cell_type": "markdown",
   "id": "fb4ef620",
   "metadata": {},
   "source": [
    "## PyQrack"
   ]
  },
  {
   "cell_type": "code",
   "execution_count": 3,
   "id": "c8d50805",
   "metadata": {},
   "outputs": [
    {
     "name": "stdout",
     "output_type": "stream",
     "text": [
      "env: QRACK_QUNITMULTI_DEVICES=1\n"
     ]
    }
   ],
   "source": [
    "%env QRACK_QUNITMULTI_DEVICES 1\n",
    "from pyqrack import QrackSimulator, Pauli\n",
    "\n",
    "def reverse_qrack(sim):\n",
    "    start = 0\n",
    "    end = sim.num_qubits() - 1\n",
    "    while (start < end):\n",
    "        sim.swap(start, end)\n",
    "        start += 1\n",
    "        end -= 1"
   ]
  },
  {
   "cell_type": "markdown",
   "id": "68e25cbe",
   "metadata": {},
   "source": [
    "### |0> initialization"
   ]
  },
  {
   "cell_type": "code",
   "execution_count": 4,
   "id": "a58fa479",
   "metadata": {},
   "outputs": [
    {
     "name": "stdout",
     "output_type": "stream",
     "text": [
      "Device #0, Loaded binary from: /home/iamu/.qrack/qrack_ocl_dev_Intel(R)_UHD_Graphics_[0x9bc4].ir\n",
      "Device #1, Loaded binary from: /home/iamu/.qrack/qrack_ocl_dev_NVIDIA_GeForce_RTX_3080_Laptop_GPU.ir\n",
      "{1: 0.00017963989999714158, 2: 6.4581399998076e-05, 3: 6.72836999996207e-05, 4: 7.996850000182575e-05, 5: 0.00012311910000022407, 6: 0.00010900390000045945, 7: 0.00011497310000407879, 8: 0.00044453590000017586, 9: 0.00014600610000030655, 10: 0.00012041409999596908, 11: 0.00011782350000117958, 12: 9.617500000018709e-05, 13: 0.00010313900000085141, 14: 9.669350000081067e-05, 15: 9.524970000001076e-05, 16: 0.00010349110000191785, 17: 9.267260000171973e-05, 18: 0.00010180439999771807, 19: 0.00010106420000113303, 20: 9.674610000303119e-05, 21: 0.0001019310000017981, 22: 0.0001027534000002106, 23: 9.974419999849715e-05, 24: 0.0001056135999974117, 25: 0.00010378140000000258, 26: 0.00010429510000022901, 27: 0.0001106565999990039}\n"
     ]
    }
   ],
   "source": [
    "def bench_qrack_0(n):\n",
    "    sim = QrackSimulator(n)\n",
    "    sim.set_reactive_separate(False)\n",
    "    # Permutation basis eigenstate initialization before QFT is \"trivial\" for Qrack.\n",
    "    start = time.perf_counter()\n",
    "    qubits = [i for i in range(n)]\n",
    "    sim.qft(qubits)\n",
    "    reverse_qrack(sim)\n",
    "    sim.m_all()\n",
    "\n",
    "    return time.perf_counter() - start\n",
    "\n",
    "qrack_0_results = {}\n",
    "for n in range(low, high + 1):\n",
    "    width_results = []\n",
    "        \n",
    "    # Run the benchmarks\n",
    "    for i in range(samples):\n",
    "        width_results.append(bench_qrack_0(n))\n",
    "\n",
    "    qrack_0_results[n] = sum(width_results) / samples\n",
    "\n",
    "print(qrack_0_results)"
   ]
  },
  {
   "cell_type": "markdown",
   "id": "0008203f",
   "metadata": {},
   "source": [
    "### GHZ state initialization"
   ]
  },
  {
   "cell_type": "code",
   "execution_count": 5,
   "id": "9e742f47",
   "metadata": {},
   "outputs": [
    {
     "name": "stdout",
     "output_type": "stream",
     "text": [
      "{1: 5.184540000158222e-05, 2: 3.469819999821766e-05, 3: 0.00010543930000181945, 4: 0.00011275110000212863, 5: 0.00010021000000222102, 6: 0.00018151909999915007, 7: 0.00015128010000182713, 8: 0.00017569970000010925, 9: 0.00025215140000085513, 10: 0.0004246494999989636, 11: 0.0014321571000024847, 12: 0.0017035303000014323, 13: 0.0019321908999984315, 14: 0.0024070420000015247, 15: 0.00306232870000116, 16: 0.0028823654999982295, 17: 0.0030657284000000116, 18: 0.003473763799999574, 19: 0.004582785700000614, 20: 0.008549971699999048, 21: 0.015963147200001516, 22: 0.0286063366999997, 23: 0.05596067019999964, 24: 0.11433998760000037, 25: 0.23121512130000213, 26: 0.4622065063999997, 27: 0.9207490548000038}\n"
     ]
    }
   ],
   "source": [
    "def bench_qrack(n):\n",
    "    sim = QrackSimulator(n)\n",
    "    sim.set_reactive_separate(False)\n",
    "    sim.h(0)\n",
    "    for i in range(n - 1):\n",
    "        sim.mcx([i], i + 1)\n",
    "    start = time.perf_counter()\n",
    "    qubits = [i for i in range(n)]\n",
    "    sim.qft(qubits)\n",
    "    reverse_qrack(sim)\n",
    "    sim.m_all()\n",
    "\n",
    "    return time.perf_counter() - start\n",
    "\n",
    "qrack_k_results = {}\n",
    "for n in range(low, high + 1):\n",
    "    width_results = []\n",
    "        \n",
    "    # Run the benchmarks\n",
    "    for i in range(samples):\n",
    "        width_results.append(bench_qrack(n))\n",
    "\n",
    "    qrack_k_results[n] = sum(width_results) / samples\n",
    "\n",
    "print(qrack_k_results)"
   ]
  },
  {
   "cell_type": "markdown",
   "id": "fb0f6651",
   "metadata": {},
   "source": [
    "## FFTW (\"Classical\" DFT)"
   ]
  },
  {
   "cell_type": "code",
   "execution_count": 6,
   "id": "944914bd",
   "metadata": {},
   "outputs": [],
   "source": [
    "import pyfftw\n",
    "import numpy as np\n",
    "\n",
    "# See https://blog.hpc.qmul.ac.uk/pyfftw.html\n",
    "pyfftw.interfaces.cache.enable()\n",
    "pyfftw.interfaces.cache.set_keepalive_time(60)\n",
    "total_time = 0"
   ]
  },
  {
   "cell_type": "code",
   "execution_count": 7,
   "id": "c1d8223e",
   "metadata": {},
   "outputs": [
    {
     "name": "stdout",
     "output_type": "stream",
     "text": [
      "{1: 6.058109999997896e-05, 2: 4.3293099997754327e-05, 3: 4.560830000173155e-05, 4: 8.889339999882396e-05, 5: 4.090499999591657e-05, 6: 3.0255599997985883e-05, 7: 3.0813599998680274e-05, 8: 2.7487799999903473e-05, 9: 2.4124799999469815e-05, 10: 2.517660000194155e-05, 11: 3.9075300000490644e-05, 12: 4.4685899997887193e-05, 13: 8.209140000161596e-05, 14: 0.00014459660000198937, 15: 0.000248392500003547, 16: 0.0004787605000032613, 17: 0.001069559300000833, 18: 0.0023893730999986927, 19: 0.007957729800003222, 20: 0.016562409400000887, 21: 0.016405655800001286, 22: 0.04890315069999644, 23: 0.10129351470000074, 24: 0.20767912899999885, 25: 0.3840447619000031, 26: 0.914657996199999, 27: 1.8559290253999976}\n"
     ]
    }
   ],
   "source": [
    "fftw_0_results = {}\n",
    "for n in range(low, high + 1):\n",
    "    width_results = []\n",
    "    for i in range(samples):\n",
    "        io_array = pyfftw.zeros_aligned(2**n, dtype=np.complex64)\n",
    "        io_array[0] = 1.\n",
    "        start = time.perf_counter()\n",
    "        pyfftw.interfaces.numpy_fft.ifft(io_array, overwrite_input=True, threads = (16 if (n > 20) else 1))\n",
    "        width_results.append(time.perf_counter() - start)\n",
    "\n",
    "    fftw_0_results[n] = sum(width_results) / samples\n",
    "\n",
    "print(fftw_0_results)"
   ]
  },
  {
   "cell_type": "markdown",
   "id": "0993b6d5",
   "metadata": {},
   "source": [
    "## Qiskit Aer"
   ]
  },
  {
   "cell_type": "code",
   "execution_count": 8,
   "id": "4db7aa58",
   "metadata": {},
   "outputs": [
    {
     "name": "stdout",
     "output_type": "stream",
     "text": [
      "{1: 0.007644495900001403, 2: 0.0035155154999984006, 3: 0.004099185099997271, 4: 0.004879510600005688, 5: 0.00534473569999534, 6: 0.006079565999996817, 7: 0.006809336300000269, 8: 0.007714101899995285, 9: 0.008925258599990115, 10: 0.009668233199997189, 11: 0.010521298800003364, 12: 0.011703860699998358, 13: 0.01267164980000075, 14: 0.01330648919999362, 15: 0.015184386800001448, 16: 0.019042633799998043, 17: 0.01812790639999946, 18: 0.023029372999997123, 19: 0.02460589900000514, 20: 0.0293351410999918, 21: 0.041035342200004266, 22: 0.06308079119999946, 23: 0.1049674819000046, 24: 0.20221986500000072, 25: 0.3919892779999998, 26: 0.8252404519000038, 27: 1.6599287896999926}\n"
     ]
    }
   ],
   "source": [
    "from qiskit import QuantumCircuit\n",
    "from qiskit import execute, Aer\n",
    "from qiskit.providers.aer import QasmSimulator\n",
    "\n",
    "def reverse_aer(num_qubits, circ):\n",
    "    start = 0\n",
    "    end = num_qubits - 1\n",
    "    while (start < end):\n",
    "        circ.swap(start, end)\n",
    "        start += 1\n",
    "        end -= 1\n",
    "\n",
    "# Implementation of the Quantum Fourier Transform\n",
    "def aer_qft(num_qubits, circ):\n",
    "    # Quantum Fourier Transform\n",
    "    for j in range(num_qubits):\n",
    "        for k in range(j):\n",
    "            circ.cp(math.pi/float(2**(j-k)), j, k)\n",
    "        circ.h(j)\n",
    "    reverse_aer(num_qubits, circ)\n",
    "    for j in range(num_qubits):\n",
    "        circ.measure(j, j)\n",
    "\n",
    "    return circ\n",
    "\n",
    "sim_backend = QasmSimulator(shots=1, method='statevector_gpu')\n",
    "\n",
    "def bench_aer(num_qubits):\n",
    "    circ = QuantumCircuit(num_qubits, num_qubits)\n",
    "    aer_qft(num_qubits, circ)\n",
    "    start = time.perf_counter()\n",
    "    job = execute([circ], sim_backend, timeout=600)\n",
    "    result = job.result()\n",
    "    return time.perf_counter() - start\n",
    "\n",
    "aer_results = {}\n",
    "for n in range(low, high + 1):\n",
    "    width_results = []\n",
    "        \n",
    "    # Run the benchmarks\n",
    "    for i in range(samples):\n",
    "        width_results.append(bench_aer(n))\n",
    "\n",
    "    aer_results[n] = sum(width_results) / samples\n",
    "\n",
    "print(aer_results)"
   ]
  },
  {
   "cell_type": "markdown",
   "id": "d52186ae",
   "metadata": {},
   "source": [
    "## Qulacs"
   ]
  },
  {
   "cell_type": "code",
   "execution_count": 9,
   "id": "f785a774",
   "metadata": {},
   "outputs": [
    {
     "name": "stdout",
     "output_type": "stream",
     "text": [
      "{1: 0.00029394379999700957, 2: 0.0004414120999996385, 3: 0.00053255929999807, 4: 0.0006238715999955958, 5: 0.0007033325999998396, 6: 0.0008104433999960748, 7: 0.0009347445999992488, 8: 0.001114721599995505, 9: 0.0013932420999964279, 10: 0.0017247419999876002, 11: 0.0021165031999913707, 12: 0.002693366400001196, 13: 0.0031528329999957806, 14: 0.0035529453999942006, 15: 0.004257645999999227, 16: 0.006539588900000126, 17: 0.011795826399998077, 18: 0.01549274439999806, 19: 0.02428297199999747, 20: 0.04525604719999876, 21: 0.08836789880000424, 22: 0.1701104534999928, 23: 0.34137327259999495, 24: 0.6793793642999987, 25: 1.335471554099999, 26: 2.670698627999994, 27: 5.5780235819999975}\n"
     ]
    }
   ],
   "source": [
    "import qulacs\n",
    "\n",
    "def reverse_qulacs(num_qubits, circ):\n",
    "    start = 0\n",
    "    end = num_qubits - 1\n",
    "    while (start < end):\n",
    "        circ.add_gate(qulacs.gate.SWAP(start, end))\n",
    "        start += 1\n",
    "        end -= 1\n",
    "\n",
    "def get_rotz(exponent: float) -> np.ndarray:\n",
    "    return np.diag([1., np.exp(1.j * np.pi * exponent)])\n",
    "\n",
    "def bench_qulacs(n):\n",
    "    sim = qulacs.QuantumStateGpu(n)\n",
    "    circ = qulacs.QuantumCircuit(n)\n",
    "    start = time.perf_counter()\n",
    "\n",
    "    for j in range(n):\n",
    "        for k in range(j):\n",
    "            mat = get_rotz(math.pi/float(2**(j-k)))\n",
    "            gate = qulacs.gate.DenseMatrix(k, mat)\n",
    "            gate.add_control_qubit(j, 1)\n",
    "            circ.add_gate(gate)\n",
    "        circ.add_gate(qulacs.gate.H(j))\n",
    "    reverse_qulacs(n, circ)\n",
    "    for index in range(n):\n",
    "        circ.add_gate(qulacs.gate.Measurement(index, index))\n",
    "\n",
    "    circ.update_quantum_state(sim)\n",
    "\n",
    "    return time.perf_counter() - start\n",
    "\n",
    "qulacs_results = {}\n",
    "for n in range(low, high + 1):\n",
    "    width_results = []\n",
    "        \n",
    "    # Run the benchmarks\n",
    "    for i in range(samples):\n",
    "        width_results.append(bench_qulacs(n))\n",
    "\n",
    "    qulacs_results[n] = sum(width_results) / samples\n",
    "\n",
    "print(qulacs_results)"
   ]
  },
  {
   "cell_type": "markdown",
   "id": "b97a4454",
   "metadata": {},
   "source": [
    "## QCGPU"
   ]
  },
  {
   "cell_type": "code",
   "execution_count": 10,
   "id": "ae7bff83",
   "metadata": {},
   "outputs": [
    {
     "name": "stdout",
     "output_type": "stream",
     "text": [
      "env: PYOPENCL_CTX=1\n"
     ]
    }
   ],
   "source": [
    "%env PYOPENCL_CTX 1"
   ]
  },
  {
   "cell_type": "code",
   "execution_count": 11,
   "id": "67a16d0d",
   "metadata": {},
   "outputs": [
    {
     "name": "stdout",
     "output_type": "stream",
     "text": [
      "{1: 0.0007465251000098761, 2: 0.001345797999994147, 3: 0.0016919919000031314, 4: 0.002788682900001049, 5: 0.003795641300007446, 6: 0.0050866082999959875, 7: 0.006459062400011817, 8: 0.008314200399996707, 9: 0.010025758100005078, 10: 0.012638028999998597, 11: 0.014570588100002623, 12: 0.01741021779998846, 13: 0.01998426760000598, 14: 0.0229999872999997, 15: 0.025875371399990854, 16: 0.029377625600005786, 17: 0.03422547360001431, 18: 0.03898900250000566, 19: 0.04502309009999408, 20: 0.0542914484999983, 21: 0.07037442830000487, 22: 0.09473941050000576, 23: 0.16529731960000618, 24: 0.3376894472000004, 25: 0.6859634900999992, 26: 1.434573329900013, 27: 2.9770157565000033}\n"
     ]
    }
   ],
   "source": [
    "import qcgpu\n",
    "\n",
    "def swap_qcgpu(circ, q1, q2):\n",
    "    circ.cx(q1, q2)\n",
    "    circ.cx(q2, q1)\n",
    "    circ.cx(q1, q2)\n",
    "    \n",
    "def reverse_qcgpu(num_qubits, circ):\n",
    "    start = 0\n",
    "    end = num_qubits - 1\n",
    "    while (start < end):\n",
    "        swap_qcgpu(circ, start, end)\n",
    "        start += 1\n",
    "        end -= 1\n",
    "\n",
    "def bench_qcgpu(num_qubits):\n",
    "    state = qcgpu.State(num_qubits)\n",
    "    start = time.perf_counter()\n",
    " \n",
    "    for j in range(num_qubits):\n",
    "        for k in range(j):\n",
    "            state.cu1(j, k, math.pi/float(2**(j-k)))\n",
    "        state.h(j)\n",
    "    reverse_qcgpu(num_qubits, state)\n",
    "    state.measure()\n",
    "\n",
    "    state.backend.queue.finish()\n",
    "    return time.perf_counter() - start\n",
    "\n",
    "qcgpu_results = {}\n",
    "for n in range(low, high + 1):\n",
    "    width_results = []\n",
    "         \n",
    "    # Run the benchmarks\n",
    "    for i in range(samples):\n",
    "        width_results.append(bench_qcgpu(n))\n",
    "\n",
    "    qcgpu_results[n] = sum(width_results) / samples\n",
    "\n",
    "print(qcgpu_results)"
   ]
  },
  {
   "cell_type": "markdown",
   "id": "4d465114",
   "metadata": {},
   "source": [
    "## qsimcirq"
   ]
  },
  {
   "cell_type": "code",
   "execution_count": 4,
   "id": "93ff6de0",
   "metadata": {},
   "outputs": [
    {
     "ename": "ValueError",
     "evalue": "cuStateVec GPU execution requested, but not supported. If your device has GPU support and the NVIDIA cuStateVec library is installed, you may need to compile qsim locally.",
     "output_type": "error",
     "traceback": [
      "\u001b[0;31m---------------------------------------------------------------------------\u001b[0m",
      "\u001b[0;31mValueError\u001b[0m                                Traceback (most recent call last)",
      "Input \u001b[0;32mIn [4]\u001b[0m, in \u001b[0;36m<cell line: 33>\u001b[0;34m()\u001b[0m\n\u001b[1;32m     36\u001b[0m     \u001b[38;5;66;03m# Run the benchmarks\u001b[39;00m\n\u001b[1;32m     37\u001b[0m     \u001b[38;5;28;01mfor\u001b[39;00m i \u001b[38;5;129;01min\u001b[39;00m \u001b[38;5;28mrange\u001b[39m(samples):\n\u001b[0;32m---> 38\u001b[0m         width_results\u001b[38;5;241m.\u001b[39mappend(\u001b[43mbench_cuquantum\u001b[49m\u001b[43m(\u001b[49m\u001b[43mn\u001b[49m\u001b[43m)\u001b[49m)\n\u001b[1;32m     40\u001b[0m     cuquantum_results[n] \u001b[38;5;241m=\u001b[39m \u001b[38;5;28msum\u001b[39m(width_results) \u001b[38;5;241m/\u001b[39m samples\n\u001b[1;32m     42\u001b[0m \u001b[38;5;28mprint\u001b[39m(cuquantum_results)\n",
      "Input \u001b[0;32mIn [4]\u001b[0m, in \u001b[0;36mbench_cuquantum\u001b[0;34m(n)\u001b[0m\n\u001b[1;32m     24\u001b[0m qubits \u001b[38;5;241m=\u001b[39m cirq\u001b[38;5;241m.\u001b[39mLineQubit\u001b[38;5;241m.\u001b[39mrange(n)\n\u001b[1;32m     25\u001b[0m qft \u001b[38;5;241m=\u001b[39m cirq\u001b[38;5;241m.\u001b[39mCircuit(cuquantum_qft(qubits))\n\u001b[0;32m---> 26\u001b[0m simulator \u001b[38;5;241m=\u001b[39m \u001b[43mqsimcirq\u001b[49m\u001b[38;5;241;43m.\u001b[39;49m\u001b[43mQSimSimulator\u001b[49m\u001b[43m(\u001b[49m\u001b[43mqsimcirq\u001b[49m\u001b[38;5;241;43m.\u001b[39;49m\u001b[43mQSimOptions\u001b[49m\u001b[43m(\u001b[49m\u001b[43muse_gpu\u001b[49m\u001b[38;5;241;43m=\u001b[39;49m\u001b[38;5;28;43;01mTrue\u001b[39;49;00m\u001b[43m,\u001b[49m\u001b[43m \u001b[49m\u001b[43mgpu_mode\u001b[49m\u001b[38;5;241;43m=\u001b[39;49m\u001b[38;5;241;43m1\u001b[39;49m\u001b[43m)\u001b[49m\u001b[43m)\u001b[49m\n\u001b[1;32m     28\u001b[0m start \u001b[38;5;241m=\u001b[39m time\u001b[38;5;241m.\u001b[39mperf_counter()\n\u001b[1;32m     29\u001b[0m simulator\u001b[38;5;241m.\u001b[39mrun(qft, repetitions\u001b[38;5;241m=\u001b[39m\u001b[38;5;241m1\u001b[39m)\n",
      "File \u001b[0;32m~/.local/lib/python3.10/site-packages/qsimcirq/qsim_simulator.py:185\u001b[0m, in \u001b[0;36mQSimSimulator.__init__\u001b[0;34m(self, qsim_options, seed, noise, circuit_memoization_size)\u001b[0m\n\u001b[1;32m    183\u001b[0m \u001b[38;5;28;01melse\u001b[39;00m:\n\u001b[1;32m    184\u001b[0m     \u001b[38;5;28;01mif\u001b[39;00m qsim_custatevec \u001b[38;5;129;01mis\u001b[39;00m \u001b[38;5;28;01mNone\u001b[39;00m:\n\u001b[0;32m--> 185\u001b[0m         \u001b[38;5;28;01mraise\u001b[39;00m \u001b[38;5;167;01mValueError\u001b[39;00m(\n\u001b[1;32m    186\u001b[0m             \u001b[38;5;124m\"\u001b[39m\u001b[38;5;124mcuStateVec GPU execution requested, but not \u001b[39m\u001b[38;5;124m\"\u001b[39m\n\u001b[1;32m    187\u001b[0m             \u001b[38;5;124m\"\u001b[39m\u001b[38;5;124msupported. If your device has GPU support and the \u001b[39m\u001b[38;5;124m\"\u001b[39m\n\u001b[1;32m    188\u001b[0m             \u001b[38;5;124m\"\u001b[39m\u001b[38;5;124mNVIDIA cuStateVec library is installed, you may need \u001b[39m\u001b[38;5;124m\"\u001b[39m\n\u001b[1;32m    189\u001b[0m             \u001b[38;5;124m\"\u001b[39m\u001b[38;5;124mto compile qsim locally.\u001b[39m\u001b[38;5;124m\"\u001b[39m\n\u001b[1;32m    190\u001b[0m         )\n\u001b[1;32m    191\u001b[0m     \u001b[38;5;28;01melse\u001b[39;00m:\n\u001b[1;32m    192\u001b[0m         \u001b[38;5;28mself\u001b[39m\u001b[38;5;241m.\u001b[39m_sim_module \u001b[38;5;241m=\u001b[39m qsim_custatevec\n",
      "\u001b[0;31mValueError\u001b[0m: cuStateVec GPU execution requested, but not supported. If your device has GPU support and the NVIDIA cuStateVec library is installed, you may need to compile qsim locally."
     ]
    }
   ],
   "source": [
    "# See https://github.com/NVIDIA/cuQuantum/discussions/23\n",
    "\n",
    "import cirq\n",
    "import qsimcirq\n",
    "import cupy\n",
    "\n",
    "def cuquantum_qft(q):\n",
    "    qreg = list(q)\n",
    "    for j in range(len(qreg)):\n",
    "        for k in range(j):\n",
    "            yield (cirq.CZ ** (2**(j-k)))(qreg[j], qreg[k])\n",
    "        yield cirq.H(qreg[j])\n",
    "\n",
    "    start = 0\n",
    "    end = len(qreg) - 1\n",
    "    while (start < end):\n",
    "        yield cirq.SWAP(qreg[start], qreg[end])\n",
    "        start += 1\n",
    "        end -= 1\n",
    "\n",
    "    yield cirq.measure(qreg)\n",
    "\n",
    "def bench_cuquantum(n):\n",
    "    qubits = cirq.LineQubit.range(n)\n",
    "    qft = cirq.Circuit(cuquantum_qft(qubits))\n",
    "    simulator = qsimcirq.QSimSimulator(qsimcirq.QSimOptions(use_gpu=True, gpu_mode=1))\n",
    "\n",
    "    start = time.perf_counter()\n",
    "    simulator.run(qft, repetitions=1)\n",
    "    return time.perf_counter() - start\n",
    "\n",
    "cuquantum_results = {}\n",
    "for n in range(low, high + 1):\n",
    "    width_results = []\n",
    "         \n",
    "    # Run the benchmarks\n",
    "    for i in range(samples):\n",
    "        width_results.append(bench_cuquantum(n))\n",
    "\n",
    "    cuquantum_results[n] = sum(width_results) / samples\n",
    "\n",
    "print(cuquantum_results)"
   ]
  },
  {
   "cell_type": "markdown",
   "id": "86c9e143",
   "metadata": {},
   "source": [
    "## Results"
   ]
  },
  {
   "cell_type": "code",
   "execution_count": null,
   "id": "976910d6",
   "metadata": {},
   "outputs": [],
   "source": [
    "import matplotlib.pyplot as plt\n",
    "\n",
    "fig = plt.gcf()\n",
    "fig.set_size_inches(14, 14)\n",
    "plt.rc('legend',fontsize=28)\n",
    "plt.rcParams.update({'font.size': 22})\n",
    "\n",
    "colors = list(\"kcymbgr\")\n",
    "markers = list(\"D*PX^so\")\n",
    "\n",
    "x = qrack_0_results.keys()\n",
    "y = qrack_0_results.values()\n",
    "plt.scatter(x,y,color=colors.pop(),marker=markers.pop())\n",
    "\n",
    "x = cuquantum_results.keys()\n",
    "y = cuquantum_results.values()\n",
    "plt.scatter(x,y,color=colors.pop(),marker=markers.pop())\n",
    "\n",
    "x = aer_results.keys()\n",
    "y = aer_results.values()\n",
    "plt.scatter(x,y,color=colors.pop(),marker=markers.pop())\n",
    "\n",
    "x = qulacs_results.keys()\n",
    "y = qulacs_results.values()\n",
    "plt.scatter(x,y,color=colors.pop(),marker=markers.pop())\n",
    "\n",
    "x = qcgpu_results.keys()\n",
    "y = qcgpu_results.values()\n",
    "plt.scatter(x,y,color=colors.pop(),marker=markers.pop())\n",
    "\n",
    "x = fftw_0_results.keys()\n",
    "y = fftw_0_results.values()\n",
    "plt.scatter(x,y,color=colors.pop(),marker=markers.pop())\n",
    "\n",
    "plt.title(\"N-qubit QFT - |0> case\")\n",
    "plt.xlabel(\"Circuit width (qb)\")\n",
    "plt.ylabel(\"Time (s)\")\n",
    "plt.legend([\"PyQrack (|0> init.)\", \"qsimcirq (|0> init.)\", \"Qiskit Aer (|0> init.)\", \"Qulacs (|0> init.)\", \"QCGPU (|0> init.)\", \"pyFFTW (|0> init.)\"])\n",
    "plt.yscale(\"log\")\n",
    "plt.xticks(np.arange(low, high + 1, step=2))\n",
    "\n",
    "plt.show()\n",
    "\n",
    "fig.savefig('qft_0_chart.png', dpi=100)"
   ]
  },
  {
   "cell_type": "code",
   "execution_count": null,
   "id": "341d2882",
   "metadata": {},
   "outputs": [],
   "source": [
    "import matplotlib.pyplot as plt\n",
    "\n",
    "fig = plt.gcf()\n",
    "fig.set_size_inches(14, 14)\n",
    "plt.rc('legend',fontsize=28)\n",
    "plt.rcParams.update({'font.size': 22})\n",
    "\n",
    "colors = list(\"cymbgr\")\n",
    "markers = list(\"*PX^so\")\n",
    "\n",
    "x = qrack_k_results.keys()\n",
    "y = qrack_k_results.values()\n",
    "plt.scatter(x,y,color=colors.pop(),marker=markers.pop())\n",
    "\n",
    "x = cuquantum_results.keys()\n",
    "y = cuquantum_results.values()\n",
    "plt.scatter(x,y,color=colors.pop(),marker=markers.pop())\n",
    "\n",
    "x = aer_results.keys()\n",
    "y = aer_results.values()\n",
    "plt.scatter(x,y,color=colors.pop(),marker=markers.pop())\n",
    "\n",
    "x = qulacs_results.keys()\n",
    "y = qulacs_results.values()\n",
    "plt.scatter(x,y,color=colors.pop(),marker=markers.pop())\n",
    "\n",
    "x = qcgpu_results.keys()\n",
    "y = qcgpu_results.values()\n",
    "plt.scatter(x,y,color=colors.pop(),marker=markers.pop())\n",
    "\n",
    "x = fftw_0_results.keys()\n",
    "y = fftw_0_results.values()\n",
    "plt.scatter(x,y,color=colors.pop(),marker=markers.pop())\n",
    "\n",
    "plt.title(\"N-qubit QFT - worst case\")\n",
    "plt.xlabel(\"Circuit width (qb)\")\n",
    "plt.ylabel(\"Time (s)\")\n",
    "plt.legend([\"PyQrack (GHZ init.)\",  \"qsimcirq (|0> init.)\", \"Qiskit Aer (|0> init.)\", \"Qulacs (|0> init.)\", \"QCGPU (|0> init.)\", \"pyFFTW (|0> init.)\"])\n",
    "plt.yscale(\"log\")\n",
    "plt.xticks(np.arange(low, high + 1, step=2))\n",
    "\n",
    "plt.show()\n",
    "\n",
    "fig.savefig('qft_worst_case_chart.png', dpi=100)"
   ]
  },
  {
   "cell_type": "code",
   "execution_count": null,
   "id": "bec59c1d",
   "metadata": {},
   "outputs": [],
   "source": [
    "import platform\n",
    "\n",
    "print(platform.machine())\n",
    "print(platform.version())\n",
    "print(platform.platform())\n",
    "print(platform.uname())\n",
    "print(platform.system())\n",
    "print(platform.processor())"
   ]
  },
  {
   "cell_type": "code",
   "execution_count": null,
   "id": "174ee311",
   "metadata": {},
   "outputs": [],
   "source": [
    "import subprocess\n",
    "\n",
    "line_as_bytes = subprocess.check_output(\"nvidia-smi -L\", shell=True)\n",
    "line = line_as_bytes.decode(\"ascii\")\n",
    "_, line = line.split(\":\", 1)\n",
    "line, _ = line.split(\"(\")\n",
    "print(line.strip())"
   ]
  },
  {
   "cell_type": "code",
   "execution_count": null,
   "id": "92fd5924",
   "metadata": {},
   "outputs": [],
   "source": [
    "import cpuinfo\n",
    "cpuinfo.get_cpu_info()['brand_raw']"
   ]
  }
 ],
 "metadata": {
  "kernelspec": {
   "display_name": "Python 3 (ipykernel)",
   "language": "python",
   "name": "python3"
  },
  "language_info": {
   "codemirror_mode": {
    "name": "ipython",
    "version": 3
   },
   "file_extension": ".py",
   "mimetype": "text/x-python",
   "name": "python",
   "nbconvert_exporter": "python",
   "pygments_lexer": "ipython3",
   "version": "3.10.6"
  }
 },
 "nbformat": 4,
 "nbformat_minor": 5
}
