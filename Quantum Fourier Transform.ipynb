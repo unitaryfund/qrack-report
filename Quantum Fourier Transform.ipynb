{
 "cells": [
  {
   "cell_type": "markdown",
   "id": "5f57c8a3",
   "metadata": {},
   "source": [
    "# Quantum Fourier Transform Benchmark"
   ]
  },
  {
   "cell_type": "code",
   "execution_count": 1,
   "id": "90b257ae",
   "metadata": {},
   "outputs": [],
   "source": [
    "low = 3\n",
    "high = 10\n",
    "samples = 100"
   ]
  },
  {
   "cell_type": "code",
   "execution_count": 2,
   "id": "1f21a89b",
   "metadata": {},
   "outputs": [],
   "source": [
    "import time\n",
    "import random\n",
    "import math"
   ]
  },
  {
   "cell_type": "markdown",
   "id": "fb4ef620",
   "metadata": {},
   "source": [
    "## PyQrack"
   ]
  },
  {
   "cell_type": "code",
   "execution_count": 3,
   "id": "c8d50805",
   "metadata": {},
   "outputs": [],
   "source": [
    "from pyqrack import QrackSimulator, Pauli"
   ]
  },
  {
   "cell_type": "markdown",
   "id": "68e25cbe",
   "metadata": {},
   "source": [
    "### |0> initialization"
   ]
  },
  {
   "cell_type": "code",
   "execution_count": 4,
   "id": "a58fa479",
   "metadata": {},
   "outputs": [
    {
     "name": "stdout",
     "output_type": "stream",
     "text": [
      "Device #0, Loaded binary from: /home/iamu/.qrack/qrack_ocl_dev_Intel(R)_UHD_Graphics_[0x9bc4].ir\n",
      "Device #1, Loaded binary from: /home/iamu/.qrack/qrack_ocl_dev_NVIDIA_GeForce_RTX_3080_Laptop_GPU.ir\n",
      "{3: 8.373260498046874e-06, 4: 9.410381317138672e-06, 5: 1.1103153228759766e-05, 6: 1.2841224670410156e-05, 7: 1.462697982788086e-05, 8: 1.7223358154296874e-05, 9: 1.9152164459228515e-05, 10: 2.1033287048339843e-05}\n"
     ]
    }
   ],
   "source": [
    "def bench_qrack_0(n):\n",
    "    sim = QrackSimulator(n)\n",
    "    # Permutation basis eigenstate initialization before QFT is \"trivial\" for Qrack.\n",
    "    start = time.time()\n",
    "    qubits = [i for i in range(n)]\n",
    "    sim.qft(qubits)\n",
    "    sim.m_all()\n",
    "\n",
    "    return time.time() - start\n",
    "\n",
    "qrack_0_results = {}\n",
    "for n in range(low, high + 1):\n",
    "        width_results = []\n",
    "        \n",
    "        # Run the benchmarks\n",
    "        for i in range(samples):\n",
    "            width_results.append(bench_qrack_0(n))\n",
    "\n",
    "        qrack_0_results[n] = sum(width_results) / samples\n",
    "\n",
    "print(qrack_0_results)"
   ]
  },
  {
   "cell_type": "markdown",
   "id": "4ccd03cb",
   "metadata": {},
   "source": [
    "### Random 1-qubit unitary initialization"
   ]
  },
  {
   "cell_type": "code",
   "execution_count": 5,
   "id": "955011cc",
   "metadata": {},
   "outputs": [
    {
     "name": "stdout",
     "output_type": "stream",
     "text": [
      "{3: 0.00013744115829467774, 4: 0.00018244504928588868, 5: 0.00023411035537719725, 6: 0.00029572725296020505, 7: 0.00038769006729125975, 8: 0.0005132508277893066, 9: 0.0006595587730407715, 10: 0.0008917593955993652}\n"
     ]
    }
   ],
   "source": [
    "def bench_qrack(n):\n",
    "    sim = QrackSimulator(n)\n",
    "    # Permutation basis eigenstate initialization before QFT is \"trivial\" for Qrack,\n",
    "    # so we give it a realistic case instead.\n",
    "    for i in range(n):\n",
    "        # Initialize with uniformly random single qubit gates, across full width.\n",
    "        sim.u(i, random.uniform(0, 4 * math.pi), random.uniform(0, 4 * math.pi), random.uniform(0, 4 * math.pi))\n",
    "    start = time.time()\n",
    "    qubits = [i for i in range(n)]\n",
    "    sim.qft(qubits)\n",
    "    sim.m_all()\n",
    "\n",
    "    return time.time() - start\n",
    "\n",
    "qrack_results = {}\n",
    "for n in range(low, high + 1):\n",
    "        width_results = []\n",
    "        \n",
    "        # Run the benchmarks\n",
    "        for i in range(samples):\n",
    "            width_results.append(bench_qrack(n))\n",
    "\n",
    "        qrack_results[n] = sum(width_results) / samples\n",
    "\n",
    "print(qrack_results)"
   ]
  },
  {
   "cell_type": "markdown",
   "id": "0993b6d5",
   "metadata": {},
   "source": [
    "## Qiskit Aer"
   ]
  },
  {
   "cell_type": "code",
   "execution_count": 6,
   "id": "4db7aa58",
   "metadata": {},
   "outputs": [
    {
     "name": "stdout",
     "output_type": "stream",
     "text": [
      "{3: 0.004650568962097168, 4: 0.005287244319915772, 5: 0.005973124504089355, 6: 0.006921048164367676, 7: 0.007383735179901123, 8: 0.00818758487701416, 9: 0.009361600875854493, 10: 0.010172028541564942}\n"
     ]
    }
   ],
   "source": [
    "from qiskit import QuantumCircuit\n",
    "from qiskit import execute, Aer\n",
    "from qiskit.providers.aer import QasmSimulator\n",
    "\n",
    "# Implementation of the Quantum Fourier Transform\n",
    "def aer_qft(num_qubits, circ):\n",
    "    # Quantum Fourier Transform\n",
    "    for j in range(num_qubits):\n",
    "        for k in range(j):\n",
    "            circ.cp(math.pi/float(2**(j-k)), j, k)\n",
    "        circ.h(j)\n",
    "    for j in range(num_qubits):\n",
    "        circ.measure(j, j)\n",
    "\n",
    "    return circ\n",
    "\n",
    "sim_backend = QasmSimulator(shots=1, method='statevector_gpu')\n",
    "\n",
    "def bench_aer(num_qubits):\n",
    "    circ = QuantumCircuit(num_qubits, num_qubits)\n",
    "    aer_qft(num_qubits, circ)\n",
    "    start = time.time()\n",
    "    job = execute([circ], sim_backend, timeout=600)\n",
    "    result = job.result()\n",
    "    return time.time() - start\n",
    "\n",
    "aer_results = {}\n",
    "for n in range(low, high + 1):\n",
    "        width_results = []\n",
    "        \n",
    "        # Run the benchmarks\n",
    "        for i in range(samples):\n",
    "            width_results.append(bench_aer(n))\n",
    "\n",
    "        aer_results[n] = sum(width_results) / samples\n",
    "\n",
    "print(aer_results)"
   ]
  },
  {
   "cell_type": "markdown",
   "id": "c1d58cfe",
   "metadata": {},
   "source": [
    "## QCGPU"
   ]
  },
  {
   "cell_type": "code",
   "execution_count": 7,
   "id": "6b610fc1",
   "metadata": {},
   "outputs": [
    {
     "name": "stdout",
     "output_type": "stream",
     "text": [
      "{3: 0.0015245485305786133, 4: 0.0023026108741760255, 5: 0.003307220935821533, 6: 0.00457007646560669, 7: 0.006064572334289551, 8: 0.007581400871276856, 9: 0.009525718688964844, 10: 0.01162287473678589}\n"
     ]
    }
   ],
   "source": [
    "import qcgpu\n",
    "\n",
    "def bench_qcgpu(num_qubits):\n",
    "    state = qcgpu.State(num_qubits)\n",
    "    start = time.time()\n",
    "\n",
    "    for j in range(num_qubits):\n",
    "        for k in range(j):\n",
    "            state.cu1(j, k, math.pi/float(2**(j-k)))\n",
    "        state.h(j)\n",
    "    state.measure()\n",
    "\n",
    "    state.backend.queue.finish()\n",
    "    return time.time() - start\n",
    "\n",
    "qcgpu_results = {}\n",
    "for n in range(low, high + 1):\n",
    "        width_results = []\n",
    "        \n",
    "        # Run the benchmarks\n",
    "        for i in range(samples):\n",
    "            width_results.append(bench_qcgpu(n))\n",
    "\n",
    "        qcgpu_results[n] = sum(width_results) / samples\n",
    "\n",
    "print(qcgpu_results)"
   ]
  },
  {
   "cell_type": "markdown",
   "id": "d52186ae",
   "metadata": {},
   "source": [
    "## Qulacs"
   ]
  },
  {
   "cell_type": "code",
   "execution_count": 8,
   "id": "f785a774",
   "metadata": {},
   "outputs": [
    {
     "name": "stdout",
     "output_type": "stream",
     "text": [
      "{3: 0.0003861832618713379, 4: 0.0005357718467712402, 5: 0.0006529068946838378, 6: 0.0008343815803527832, 7: 0.0010166168212890625, 8: 0.0012030601501464844, 9: 0.0014337825775146485, 10: 0.0017303657531738282}\n"
     ]
    }
   ],
   "source": [
    "import numpy as np\n",
    "import qulacs\n",
    "\n",
    "def get_rotz(exponent: float) -> np.ndarray:\n",
    "    return np.diag([1., np.exp(1.j * np.pi * exponent)])\n",
    "\n",
    "def bench_qulacs(n):\n",
    "    sim = qulacs.QuantumStateGpu(n)\n",
    "    circ = qulacs.QuantumCircuit(n)\n",
    "    start = time.time()\n",
    "\n",
    "    for j in range(n):\n",
    "        for k in range(j):\n",
    "            mat = get_rotz(math.pi/float(2**(j-k)))\n",
    "            gate = qulacs.gate.DenseMatrix(k, mat)\n",
    "            gate.add_control_qubit(j, 1)\n",
    "            circ.add_gate(gate)\n",
    "        circ.add_gate(qulacs.gate.H(j))\n",
    "    for index in range(n):\n",
    "        circ.add_gate(qulacs.gate.Measurement(index, index))\n",
    "\n",
    "    circ.update_quantum_state(sim)\n",
    "\n",
    "    return time.time() - start\n",
    "\n",
    "qulacs_results = {}\n",
    "for n in range(low, high + 1):\n",
    "        width_results = []\n",
    "        \n",
    "        # Run the benchmarks\n",
    "        for i in range(samples):\n",
    "            width_results.append(bench_qulacs(n))\n",
    "\n",
    "        qulacs_results[n] = sum(width_results) / samples\n",
    "\n",
    "print(qulacs_results)"
   ]
  },
  {
   "cell_type": "markdown",
   "id": "86c9e143",
   "metadata": {},
   "source": [
    "## Results"
   ]
  },
  {
   "cell_type": "code",
   "execution_count": 9,
   "id": "976910d6",
   "metadata": {},
   "outputs": [
    {
     "data": {
      "image/png": "[encoded data removed]",
      "text/plain": [
       "<Figure size 432x288 with 1 Axes>"
      ]
     },
     "metadata": {
      "needs_background": "light"
     },
     "output_type": "display_data"
    }
   ],
   "source": [
    "import matplotlib.pyplot as plt\n",
    "\n",
    "colors = list(\"ymbgr\")\n",
    "\n",
    "x = qrack_0_results.keys()\n",
    "y = qrack_0_results.values()\n",
    "plt.scatter(x,y,color=colors.pop())\n",
    "\n",
    "x = qrack_results.keys()\n",
    "y = qrack_results.values()\n",
    "plt.scatter(x,y,color=colors.pop())\n",
    "\n",
    "x = aer_results.keys()\n",
    "y = aer_results.values()\n",
    "plt.scatter(x,y,color=colors.pop())\n",
    "\n",
    "x = qcgpu_results.keys()\n",
    "y = qcgpu_results.values()\n",
    "plt.scatter(x,y,color=colors.pop())\n",
    "\n",
    "x = qulacs_results.keys()\n",
    "y = qulacs_results.values()\n",
    "plt.scatter(x,y,color=colors.pop())\n",
    "\n",
    "plt.title(\"N-qubit QFT\")\n",
    "plt.xlabel(\"Circuit width (qb)\")\n",
    "plt.ylabel(\"Time (s)\")\n",
    "plt.legend([\"PyQrack (|0> init.)\", \"PyQrack (Rand. 1 qb init.)\", \"Qiskit Aer (|0> init.)\", \"QCGPU (|0> init.)\", \"Qulacs (|0> init.)\"])\n",
    "plt.yscale(\"log\")\n",
    "plt.show()"
   ]
  }
 ],
 "metadata": {
  "kernelspec": {
   "display_name": "Python 3 (ipykernel)",
   "language": "python",
   "name": "python3"
  },
  "language_info": {
   "codemirror_mode": {
    "name": "ipython",
    "version": 3
   },
   "file_extension": ".py",
   "mimetype": "text/x-python",
   "name": "python",
   "nbconvert_exporter": "python",
   "pygments_lexer": "ipython3",
   "version": "3.10.6"
  }
 },
 "nbformat": 4,
 "nbformat_minor": 5
}
