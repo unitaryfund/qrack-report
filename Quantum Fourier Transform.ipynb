{
 "cells": [
  {
   "cell_type": "markdown",
   "id": "5f57c8a3",
   "metadata": {},
   "source": [
    "# Quantum Fourier Transform Benchmark"
   ]
  },
  {
   "cell_type": "code",
   "execution_count": 1,
   "id": "90b257ae",
   "metadata": {},
   "outputs": [],
   "source": [
    "low = 1\n",
    "high = 28\n",
    "samples = 100"
   ]
  },
  {
   "cell_type": "code",
   "execution_count": 2,
   "id": "1f21a89b",
   "metadata": {},
   "outputs": [],
   "source": [
    "import time\n",
    "import random\n",
    "import math\n",
    "import numpy as np"
   ]
  },
  {
   "cell_type": "markdown",
   "id": "198979f1",
   "metadata": {},
   "source": [
    "## FFTW (\"Classical\" DFT)"
   ]
  },
  {
   "cell_type": "code",
   "execution_count": 17,
   "id": "657d7562",
   "metadata": {},
   "outputs": [
    {
     "name": "stdout",
     "output_type": "stream",
     "text": [
      "{1: 1.9686799932969735e-05, 2: 1.650663973123301e-05, 3: 1.7741760166245514e-05, 4: 1.182391009933781e-05, 5: 1.374010018480476e-05, 6: 1.9638710145954974e-05, 7: 3.371329978108406e-05, 8: 1.2575760338222609e-05, 9: 1.309838997258339e-05, 10: 0.00013330450012290383, 11: 5.602954974165186e-05, 12: 0.00038778735004598277, 13: 0.0009808307898492785, 14: 0.0015007998399232747, 15: 0.0030772279301891103, 16: 0.00910858497976733, 17: 0.012260131009898033, 18: 0.02921623162008473, 19: 0.01345128389992169, 20: 0.039938455229857936, 21: 0.04388814600948535, 22: 0.0502960723596334, 23: 0.06500334859010763, 24: 0.10383524256962119, 25: 0.1730342404102703, 26: 0.3369515074403171, 27: 0.6856755644505756, 28: 1.6053181030303676}\n"
     ]
    }
   ],
   "source": [
    "# See https://blog.hpc.qmul.ac.uk/pyfftw.html\n",
    "\n",
    "import pyfftw\n",
    "\n",
    "pyfftw.config.NUM_THREADS = 1\n",
    "pyfftw.config.PLANNER_EFFORT = 'FFTW_MEASURE'\n",
    "pyfftw.interfaces.cache.enable()\n",
    "pyfftw.interfaces.cache.set_keepalive_time(60)\n",
    "total_time = 0\n",
    "\n",
    "fftw_results = {}\n",
    "for n in range(low, high + 1):\n",
    "    width_results = []\n",
    "    for i in range(samples):\n",
    "        io_array = pyfftw.empty_aligned(2**n, dtype=np.complex64)\n",
    "        io_array[0] = 1.\n",
    "        start = time.perf_counter()\n",
    "        pyfftw.interfaces.numpy_fft.fft(io_array, overwrite_input=True, threads = (16 if (n > 19) else 1))\n",
    "        width_results.append(time.perf_counter() - start)\n",
    "\n",
    "    fftw_results[n] = sum(width_results) / samples\n",
    "\n",
    "print(fftw_results)"
   ]
  },
  {
   "cell_type": "markdown",
   "id": "fb4ef620",
   "metadata": {},
   "source": [
    "## PyQrack"
   ]
  },
  {
   "cell_type": "code",
   "execution_count": 4,
   "id": "c8d50805",
   "metadata": {},
   "outputs": [
    {
     "name": "stdout",
     "output_type": "stream",
     "text": [
      "env: QRACK_QUNITMULTI_DEVICES=1\n"
     ]
    }
   ],
   "source": [
    "%env QRACK_QUNITMULTI_DEVICES 1\n",
    "from pyqrack import QrackSimulator, Pauli\n",
    "\n",
    "def reverse_qrack(sim):\n",
    "    start = 0\n",
    "    end = sim.num_qubits() - 1\n",
    "    while (start < end):\n",
    "        sim.swap(start, end)\n",
    "        start += 1\n",
    "        end -= 1"
   ]
  },
  {
   "cell_type": "markdown",
   "id": "68e25cbe",
   "metadata": {},
   "source": [
    "### |0> initialization"
   ]
  },
  {
   "cell_type": "code",
   "execution_count": 5,
   "id": "a58fa479",
   "metadata": {},
   "outputs": [
    {
     "name": "stdout",
     "output_type": "stream",
     "text": [
      "Device #0, Loaded binary from: /home/iamu/.qrack/qrack_ocl_dev_Intel(R)_UHD_Graphics_[0x9bc4].ir\n",
      "Device #1, Loaded binary from: /home/iamu/.qrack/qrack_ocl_dev_NVIDIA_GeForce_RTX_3080_Laptop_GPU.ir\n",
      "{1: 7.3966701893368735e-06, 2: 9.692509920569136e-06, 3: 1.1230190139031038e-05, 4: 1.3849469978595152e-05, 5: 1.6473100331495515e-05, 6: 1.875399968412239e-05, 7: 2.0153879740973935e-05, 8: 2.2702149944962002e-05, 9: 2.5591699741198683e-05, 10: 2.843265996489208e-05, 11: 3.070041959290393e-05, 12: 3.410069992241915e-05, 13: 3.6333530515548774e-05, 14: 3.9705839881207794e-05, 15: 4.2608549774740824e-05, 16: 4.629580056644045e-05, 17: 4.9775959996622984e-05, 18: 5.5099059682106597e-05, 19: 5.7166169935953806e-05, 20: 6.288766024226789e-05, 21: 6.512011983431875e-05, 22: 6.964556014281698e-05, 23: 7.270199021149892e-05, 24: 7.763340036035516e-05, 25: 8.223629964049906e-05, 26: 8.60411798930727e-05, 27: 9.065963022294454e-05, 28: 9.441081041586586e-05}\n"
     ]
    }
   ],
   "source": [
    "def bench_qrack_0(n):\n",
    "    sim = QrackSimulator(n)\n",
    "    # Permutation basis eigenstate initialization before QFT is \"trivial\" for Qrack.\n",
    "    start = time.perf_counter()\n",
    "    qubits = [i for i in range(n)]\n",
    "    sim.qft(qubits)\n",
    "    reverse_qrack(sim)\n",
    "    sim.m_all()\n",
    "\n",
    "    return time.perf_counter() - start\n",
    "\n",
    "qrack_0_results = {}\n",
    "for n in range(low, high + 1):\n",
    "    width_results = []\n",
    "        \n",
    "    # Run the benchmarks\n",
    "    for i in range(samples):\n",
    "        width_results.append(bench_qrack_0(n))\n",
    "\n",
    "    qrack_0_results[n] = sum(width_results) / samples\n",
    "\n",
    "print(qrack_0_results)"
   ]
  },
  {
   "cell_type": "markdown",
   "id": "4ccd03cb",
   "metadata": {},
   "source": [
    "### Random 1-qubit unitary initialization"
   ]
  },
  {
   "cell_type": "code",
   "execution_count": 6,
   "id": "955011cc",
   "metadata": {},
   "outputs": [
    {
     "name": "stdout",
     "output_type": "stream",
     "text": [
      "{1: 7.031229615677148e-06, 2: 5.3777329812874084e-05, 3: 0.00014789781002036762, 4: 0.00019707656043465248, 5: 0.00022934950990020298, 6: 0.0003136405803525122, 7: 0.00039728330048092173, 8: 0.0005140463302086573, 9: 0.0006576382601633668, 10: 0.0008864532400184544, 11: 0.001524026129845879, 12: 0.00206082854019769, 13: 0.002459358070627786, 14: 0.002959292470186483, 15: 0.0034420060199045113, 16: 0.003894951569964178, 17: 0.004274053570043179, 18: 0.004914610970372451, 19: 0.005846230519091477, 20: 0.00787496123033634, 21: 0.010905375540460227, 22: 0.01658991922013229, 23: 0.027808948409874575, 24: 0.050011345469756635, 25: 0.09349504326011811, 26: 0.1817608656505763, 27: 0.3587691691407963, 28: 0.7042646102204162}\n"
     ]
    }
   ],
   "source": [
    "def bench_qrack(n):\n",
    "    sim = QrackSimulator(n)\n",
    "    # Permutation basis eigenstate initialization before QFT is \"trivial\" for Qrack,\n",
    "    # so we give it a realistic case instead.\n",
    "    for i in range(n):\n",
    "        # Initialize with uniformly random single qubit gates, across full width.\n",
    "        sim.u(i, random.uniform(0, 4 * math.pi), random.uniform(0, 4 * math.pi), random.uniform(0, 4 * math.pi))\n",
    "    start = time.perf_counter()\n",
    "    qubits = [i for i in range(n)]\n",
    "    sim.qft(qubits)\n",
    "    reverse_qrack(sim)\n",
    "    sim.m_all()\n",
    "\n",
    "    return time.perf_counter() - start\n",
    "\n",
    "qrack_results = {}\n",
    "for n in range(low, high + 1):\n",
    "    width_results = []\n",
    "        \n",
    "    # Run the benchmarks\n",
    "    for i in range(samples):\n",
    "        width_results.append(bench_qrack(n))\n",
    "\n",
    "    qrack_results[n] = sum(width_results) / samples\n",
    "\n",
    "print(qrack_results)"
   ]
  },
  {
   "cell_type": "markdown",
   "id": "0993b6d5",
   "metadata": {},
   "source": [
    "## Qiskit Aer"
   ]
  },
  {
   "cell_type": "code",
   "execution_count": 7,
   "id": "4db7aa58",
   "metadata": {},
   "outputs": [
    {
     "name": "stdout",
     "output_type": "stream",
     "text": [
      "{1: 0.0034339191505569034, 2: 0.0036559358398517362, 3: 0.004455032469850267, 4: 0.005387185369982035, 5: 0.0062491973498981675, 6: 0.007255290629691444, 7: 0.008143717690254562, 8: 0.00935081176001404, 9: 0.010203833040504833, 10: 0.011218948750029085, 11: 0.012957129059941508, 12: 0.014015103430574527, 13: 0.015310458150415797, 14: 0.016074535660081893, 15: 0.01840485384047497, 16: 0.019802566089929315, 17: 0.02191450037971663, 18: 0.02383906296985515, 19: 0.028061178279676822, 20: 0.03440034711937187, 21: 0.04436803879063518, 22: 0.06466615396006091, 23: 0.11081594291943475, 24: 0.20559505734003325, 25: 0.3962248424104473, 26: 0.8440370655198786, 27: 1.682919568760044, 28: 3.57916719989953}\n"
     ]
    }
   ],
   "source": [
    "from qiskit import QuantumCircuit\n",
    "from qiskit import execute, Aer\n",
    "from qiskit.providers.aer import QasmSimulator\n",
    "\n",
    "def reverse_aer(num_qubits, circ):\n",
    "    start = 0\n",
    "    end = num_qubits - 1\n",
    "    while (start < end):\n",
    "        circ.swap(start, end)\n",
    "        start += 1\n",
    "        end -= 1\n",
    "\n",
    "# Implementation of the Quantum Fourier Transform\n",
    "def aer_qft(num_qubits, circ):\n",
    "    # Quantum Fourier Transform\n",
    "    for j in range(num_qubits):\n",
    "        for k in range(j):\n",
    "            circ.cp(math.pi/float(2**(j-k)), j, k)\n",
    "        circ.h(j)\n",
    "    reverse_aer(num_qubits, circ)\n",
    "    for j in range(num_qubits):\n",
    "        circ.measure(j, j)\n",
    "\n",
    "    return circ\n",
    "\n",
    "sim_backend = QasmSimulator(shots=1, method='statevector_gpu')\n",
    "\n",
    "def bench_aer(num_qubits):\n",
    "    circ = QuantumCircuit(num_qubits, num_qubits)\n",
    "    aer_qft(num_qubits, circ)\n",
    "    start = time.perf_counter()\n",
    "    job = execute([circ], sim_backend, timeout=600)\n",
    "    result = job.result()\n",
    "    return time.perf_counter() - start\n",
    "\n",
    "aer_results = {}\n",
    "for n in range(low, high + 1):\n",
    "    width_results = []\n",
    "        \n",
    "    # Run the benchmarks\n",
    "    for i in range(samples):\n",
    "        width_results.append(bench_aer(n))\n",
    "\n",
    "    aer_results[n] = sum(width_results) / samples\n",
    "\n",
    "print(aer_results)"
   ]
  },
  {
   "cell_type": "markdown",
   "id": "d52186ae",
   "metadata": {},
   "source": [
    "## Qulacs"
   ]
  },
  {
   "cell_type": "code",
   "execution_count": 8,
   "id": "f785a774",
   "metadata": {},
   "outputs": [
    {
     "name": "stdout",
     "output_type": "stream",
     "text": [
      "{1: 0.00018829108965292106, 2: 0.0004024359498725971, 3: 0.000536848590199952, 4: 0.0006839958602358819, 5: 0.0008009887595835607, 6: 0.0009773494994442444, 7: 0.001119031780253863, 8: 0.0013896646002831403, 9: 0.0016474041099718306, 10: 0.002020620149341994, 11: 0.0024616626595525305, 12: 0.003116011989695835, 13: 0.0035768074704537866, 14: 0.004067158649922931, 15: 0.004557073329779087, 16: 0.007383043639929383, 17: 0.011681167990172981, 18: 0.016371407360129524, 19: 0.024888120060131767, 20: 0.04523050735937431, 21: 0.08614300682063913, 22: 0.1748472543698881, 23: 0.3588234306700178, 24: 0.6864522437405686, 25: 1.3961462681400008, 26: 2.8627979988999868, 27: 5.686958989070263, 28: 13.381054045479614}\n"
     ]
    }
   ],
   "source": [
    "import qulacs\n",
    "\n",
    "def reverse_qulacs(num_qubits, circ):\n",
    "    start = 0\n",
    "    end = num_qubits - 1\n",
    "    while (start < end):\n",
    "        circ.add_gate(qulacs.gate.SWAP(start, end))\n",
    "        start += 1\n",
    "        end -= 1\n",
    "\n",
    "def get_rotz(exponent: float) -> np.ndarray:\n",
    "    return np.diag([1., np.exp(1.j * np.pi * exponent)])\n",
    "\n",
    "def bench_qulacs(n):\n",
    "    sim = qulacs.QuantumStateGpu(n)\n",
    "    circ = qulacs.QuantumCircuit(n)\n",
    "    start = time.perf_counter()\n",
    "\n",
    "    for j in range(n):\n",
    "        for k in range(j):\n",
    "            mat = get_rotz(math.pi/float(2**(j-k)))\n",
    "            gate = qulacs.gate.DenseMatrix(k, mat)\n",
    "            gate.add_control_qubit(j, 1)\n",
    "            circ.add_gate(gate)\n",
    "        circ.add_gate(qulacs.gate.H(j))\n",
    "    reverse_qulacs(n, circ)\n",
    "    for index in range(n):\n",
    "        circ.add_gate(qulacs.gate.Measurement(index, index))\n",
    "\n",
    "    circ.update_quantum_state(sim)\n",
    "\n",
    "    return time.perf_counter() - start\n",
    "\n",
    "qulacs_results = {}\n",
    "for n in range(low, high + 1):\n",
    "    width_results = []\n",
    "        \n",
    "    # Run the benchmarks\n",
    "    for i in range(samples):\n",
    "        width_results.append(bench_qulacs(n))\n",
    "\n",
    "    qulacs_results[n] = sum(width_results) / samples\n",
    "\n",
    "print(qulacs_results)"
   ]
  },
  {
   "cell_type": "markdown",
   "id": "b97a4454",
   "metadata": {},
   "source": [
    "## QCGPU"
   ]
  },
  {
   "cell_type": "code",
   "execution_count": 9,
   "id": "ae7bff83",
   "metadata": {},
   "outputs": [
    {
     "name": "stdout",
     "output_type": "stream",
     "text": [
      "env: PYOPENCL_CTX=1\n"
     ]
    }
   ],
   "source": [
    "%env PYOPENCL_CTX 1"
   ]
  },
  {
   "cell_type": "code",
   "execution_count": 10,
   "id": "67a16d0d",
   "metadata": {},
   "outputs": [
    {
     "name": "stdout",
     "output_type": "stream",
     "text": [
      "{1: 0.0004128603497520089, 2: 0.0012111598800402135, 3: 0.0016888885403022868, 4: 0.0028500678700220305, 5: 0.0037946517697128, 6: 0.005186533270752989, 7: 0.0065186467904277375, 8: 0.008380027519669965, 9: 0.010096780290114111, 10: 0.01240795965990401, 11: 0.01451521297058207, 12: 0.017236910680294384, 13: 0.019820277679900754, 14: 0.023113182119850535, 15: 0.02620190907000506, 16: 0.03012434160998964, 17: 0.03388507063980797, 18: 0.03923488832973817, 19: 0.045506211019528564, 20: 0.05749774061012431, 21: 0.07240673770997091, 22: 0.09817031804988802, 23: 0.16192053794999084, 24: 0.3354033457201149, 25: 0.6954832251102926, 26: 1.4431001378101065, 27: 2.989618058390188, 28: 6.518496144210003}\n"
     ]
    }
   ],
   "source": [
    "import qcgpu\n",
    "\n",
    "def swap_qcgpu(circ, q1, q2):\n",
    "    circ.cx(q1, q2)\n",
    "    circ.cx(q2, q1)\n",
    "    circ.cx(q1, q2)\n",
    "    \n",
    "def reverse_qcgpu(num_qubits, circ):\n",
    "    start = 0\n",
    "    end = num_qubits - 1\n",
    "    while (start < end):\n",
    "        swap_qcgpu(circ, start, end)\n",
    "        start += 1\n",
    "        end -= 1\n",
    "\n",
    "def bench_qcgpu(num_qubits):\n",
    "    state = qcgpu.State(num_qubits)\n",
    "    start = time.perf_counter()\n",
    " \n",
    "    for j in range(num_qubits):\n",
    "        for k in range(j):\n",
    "            state.cu1(j, k, math.pi/float(2**(j-k)))\n",
    "        state.h(j)\n",
    "    reverse_qcgpu(num_qubits, state)\n",
    "    state.measure()\n",
    "\n",
    "    state.backend.queue.finish()\n",
    "    return time.perf_counter() - start\n",
    "\n",
    "qcgpu_results = {}\n",
    "for n in range(low, high + 1):\n",
    "    width_results = []\n",
    "         \n",
    "    # Run the benchmarks\n",
    "    for i in range(samples):\n",
    "        width_results.append(bench_qcgpu(n))\n",
    "\n",
    "    qcgpu_results[n] = sum(width_results) / samples\n",
    "\n",
    "print(qcgpu_results)"
   ]
  },
  {
   "cell_type": "markdown",
   "id": "86c9e143",
   "metadata": {},
   "source": [
    "## Results"
   ]
  },
  {
   "cell_type": "code",
   "execution_count": 19,
   "id": "976910d6",
   "metadata": {},
   "outputs": [
    {
     "data": {
      "image/png": "[encoded data removed]",
      "text/plain": [
       "<Figure size 1008x1008 with 1 Axes>"
      ]
     },
     "metadata": {
      "needs_background": "light"
     },
     "output_type": "display_data"
    }
   ],
   "source": [
    "import matplotlib.pyplot as plt\n",
    "\n",
    "fig = plt.gcf()\n",
    "fig.set_size_inches(14, 14)\n",
    "\n",
    "colors = list(\"cymbgr\")\n",
    "\n",
    "x = qrack_0_results.keys()\n",
    "y = qrack_0_results.values()\n",
    "plt.scatter(x,y,color=colors.pop())\n",
    "\n",
    "x = qrack_results.keys()\n",
    "y = qrack_results.values()\n",
    "plt.scatter(x,y,color=colors.pop())\n",
    "\n",
    "x = aer_results.keys()\n",
    "y = aer_results.values()\n",
    "plt.scatter(x,y,color=colors.pop())\n",
    "\n",
    "x = qulacs_results.keys()\n",
    "y = qulacs_results.values()\n",
    "plt.scatter(x,y,color=colors.pop())\n",
    "\n",
    "x = qcgpu_results.keys()\n",
    "y = qcgpu_results.values()\n",
    "plt.scatter(x,y,color=colors.pop())\n",
    "\n",
    "x = fftw_results.keys()\n",
    "y = fftw_results.values()\n",
    "plt.scatter(x,y,color=colors.pop())\n",
    "\n",
    "plt.title(\"N-qubit QFT\")\n",
    "plt.xlabel(\"Circuit width (qb)\")\n",
    "plt.ylabel(\"Time (s)\")\n",
    "plt.legend([\"PyQrack (|0> init.)\", \"PyQrack (Rand. 1 qb init.)\", \"Qiskit Aer (|0> init.)\", \"Qulacs (|0> init.)\", \"QCGPU (|0> init.)\", \"pyFFTW (|0> init.)\"])\n",
    "plt.yscale(\"log\")\n",
    "plt.xticks(np.arange(low, high + 1, step=1))\n",
    "\n",
    "plt.show()\n",
    "\n",
    "fig.savefig('qft_chart.png', dpi=100)"
   ]
  },
  {
   "cell_type": "code",
   "execution_count": 12,
   "id": "bec59c1d",
   "metadata": {},
   "outputs": [
    {
     "name": "stdout",
     "output_type": "stream",
     "text": [
      "x86_64\n",
      "#33~22.04.1-Ubuntu SMP PREEMPT_DYNAMIC Mon Jan 30 17:03:34 UTC 2\n",
      "Linux-5.19.0-32-generic-x86_64-with-glibc2.35\n",
      "uname_result(system='Linux', node='sekhmet', release='5.19.0-32-generic', version='#33~22.04.1-Ubuntu SMP PREEMPT_DYNAMIC Mon Jan 30 17:03:34 UTC 2', machine='x86_64')\n",
      "Linux\n",
      "x86_64\n"
     ]
    }
   ],
   "source": [
    "import platform\n",
    "\n",
    "print(platform.machine())\n",
    "print(platform.version())\n",
    "print(platform.platform())\n",
    "print(platform.uname())\n",
    "print(platform.system())\n",
    "print(platform.processor())"
   ]
  },
  {
   "cell_type": "code",
   "execution_count": 13,
   "id": "174ee311",
   "metadata": {},
   "outputs": [
    {
     "name": "stdout",
     "output_type": "stream",
     "text": [
      "NVIDIA GeForce RTX 3080 Laptop GPU\n"
     ]
    }
   ],
   "source": [
    "import subprocess\n",
    "\n",
    "line_as_bytes = subprocess.check_output(\"nvidia-smi -L\", shell=True)\n",
    "line = line_as_bytes.decode(\"ascii\")\n",
    "_, line = line.split(\":\", 1)\n",
    "line, _ = line.split(\"(\")\n",
    "print(line.strip())"
   ]
  },
  {
   "cell_type": "code",
   "execution_count": 14,
   "id": "92fd5924",
   "metadata": {},
   "outputs": [
    {
     "data": {
      "text/plain": [
       "'Intel(R) Core(TM) i9-10980HK CPU @ 2.40GHz'"
      ]
     },
     "execution_count": 14,
     "metadata": {},
     "output_type": "execute_result"
    }
   ],
   "source": [
    "import cpuinfo\n",
    "cpuinfo.get_cpu_info()['brand_raw']"
   ]
  }
 ],
 "metadata": {
  "kernelspec": {
   "display_name": "Python 3 (ipykernel)",
   "language": "python",
   "name": "python3"
  },
  "language_info": {
   "codemirror_mode": {
    "name": "ipython",
    "version": 3
   },
   "file_extension": ".py",
   "mimetype": "text/x-python",
   "name": "python",
   "nbconvert_exporter": "python",
   "pygments_lexer": "ipython3",
   "version": "3.10.6"
  }
 },
 "nbformat": 4,
 "nbformat_minor": 5
}
