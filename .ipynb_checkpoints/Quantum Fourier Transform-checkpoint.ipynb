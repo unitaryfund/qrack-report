{
 "cells": [
  {
   "cell_type": "markdown",
   "id": "5f57c8a3",
   "metadata": {},
   "source": [
    "# Quantum Fourier Transform Benchmark"
   ]
  },
  {
   "cell_type": "code",
   "execution_count": 1,
   "id": "90b257ae",
   "metadata": {},
   "outputs": [],
   "source": [
    "low = 3\n",
    "high = 10\n",
    "samples = 100"
   ]
  },
  {
   "cell_type": "code",
   "execution_count": 2,
   "id": "1f21a89b",
   "metadata": {},
   "outputs": [],
   "source": [
    "import time\n",
    "import random\n",
    "import math"
   ]
  },
  {
   "cell_type": "markdown",
   "id": "fb4ef620",
   "metadata": {},
   "source": [
    "## PyQrack"
   ]
  },
  {
   "cell_type": "code",
   "execution_count": 3,
   "id": "c8d50805",
   "metadata": {},
   "outputs": [],
   "source": [
    "from pyqrack import QrackSimulator, Pauli"
   ]
  },
  {
   "cell_type": "markdown",
   "id": "68e25cbe",
   "metadata": {},
   "source": [
    "### |0> initialization"
   ]
  },
  {
   "cell_type": "code",
   "execution_count": 4,
   "id": "a58fa479",
   "metadata": {},
   "outputs": [
    {
     "name": "stdout",
     "output_type": "stream",
     "text": [
      "Device #0, Loaded binary from: /home/iamu/.qrack/qrack_ocl_dev_Intel(R)_UHD_Graphics_[0x9bc4].ir\n",
      "Device #1, Loaded binary from: /home/iamu/.qrack/qrack_ocl_dev_NVIDIA_GeForce_RTX_3080_Laptop_GPU.ir\n",
      "{3: 8.678436279296875e-06, 4: 9.92298126220703e-06, 5: 1.1737346649169921e-05, 6: 1.3818740844726563e-05, 7: 1.560211181640625e-05, 8: 1.7488002777099608e-05, 9: 2.0353794097900392e-05, 10: 2.1708011627197265e-05}\n"
     ]
    }
   ],
   "source": [
    "def bench_qrack_0(n):\n",
    "    sim = QrackSimulator(n)\n",
    "    # Permutation basis eigenstate initialization before QFT is \"trivial\" for Qrack.\n",
    "    start = time.time()\n",
    "    qubits = [i for i in range(n)]\n",
    "    sim.qft(qubits)\n",
    "    sim.m_all()\n",
    "\n",
    "    return time.time() - start\n",
    "\n",
    "qrack_0_results = {}\n",
    "for n in range(low, high + 1):\n",
    "        width_results = []\n",
    "        \n",
    "        # Run the benchmarks\n",
    "        for i in range(samples):\n",
    "            width_results.append(bench_qrack_0(n))\n",
    "\n",
    "        qrack_0_results[n] = sum(width_results) / samples\n",
    "\n",
    "print(qrack_0_results)"
   ]
  },
  {
   "cell_type": "markdown",
   "id": "4ccd03cb",
   "metadata": {},
   "source": [
    "### Random 1-qubit unitary initialization"
   ]
  },
  {
   "cell_type": "code",
   "execution_count": 5,
   "id": "955011cc",
   "metadata": {},
   "outputs": [
    {
     "name": "stdout",
     "output_type": "stream",
     "text": [
      "{3: 0.00013616085052490235, 4: 0.0001654052734375, 5: 0.00020782470703125, 6: 0.0002853226661682129, 7: 0.0004048943519592285, 8: 0.0005024337768554688, 9: 0.0006478452682495118, 10: 0.0008528804779052734}\n"
     ]
    }
   ],
   "source": [
    "def bench_qrack(n):\n",
    "    sim = QrackSimulator(n)\n",
    "    # Permutation basis eigenstate initialization before QFT is \"trivial\" for Qrack,\n",
    "    # so we give it a realistic case instead.\n",
    "    for i in range(n):\n",
    "        # Initialize with uniformly random single qubit gates, across full width.\n",
    "        sim.u(i, random.uniform(0, 4 * math.pi), random.uniform(0, 4 * math.pi), random.uniform(0, 4 * math.pi))\n",
    "    start = time.time()\n",
    "    qubits = [i for i in range(n)]\n",
    "    sim.qft(qubits)\n",
    "    sim.m_all()\n",
    "\n",
    "    return time.time() - start\n",
    "\n",
    "qrack_results = {}\n",
    "for n in range(low, high + 1):\n",
    "        width_results = []\n",
    "        \n",
    "        # Run the benchmarks\n",
    "        for i in range(samples):\n",
    "            width_results.append(bench_qrack(n))\n",
    "\n",
    "        qrack_results[n] = sum(width_results) / samples\n",
    "\n",
    "print(qrack_results)"
   ]
  },
  {
   "cell_type": "markdown",
   "id": "0993b6d5",
   "metadata": {},
   "source": [
    "## Qiskit Aer"
   ]
  },
  {
   "cell_type": "code",
   "execution_count": 6,
   "id": "4db7aa58",
   "metadata": {},
   "outputs": [
    {
     "name": "stdout",
     "output_type": "stream",
     "text": [
      "{3: 0.004472284317016601, 4: 0.004926092624664306, 5: 0.0056432771682739255, 6: 0.006400303840637207, 7: 0.0071964550018310544, 8: 0.008041682243347168, 9: 0.009184718132019043, 10: 0.00995248556137085}\n"
     ]
    }
   ],
   "source": [
    "from qiskit import QuantumCircuit\n",
    "from qiskit import execute, Aer\n",
    "from qiskit.providers.aer import QasmSimulator\n",
    "\n",
    "# Implementation of the Quantum Fourier Transform\n",
    "def aer_qft(num_qubits, circ):\n",
    "    # Quantum Fourier Transform\n",
    "    for j in range(num_qubits):\n",
    "        for k in range(j):\n",
    "            circ.cp(math.pi/float(2**(j-k)), j, k)\n",
    "        circ.h(j)\n",
    "    for j in range(num_qubits):\n",
    "        circ.measure(j, j)\n",
    "\n",
    "    return circ\n",
    "\n",
    "sim_backend = QasmSimulator(shots=1, method='statevector_gpu')\n",
    "\n",
    "def bench_aer(num_qubits):\n",
    "    circ = QuantumCircuit(num_qubits, num_qubits)\n",
    "    aer_qft(num_qubits, circ)\n",
    "    start = time.time()\n",
    "    job = execute([circ], sim_backend, timeout=600)\n",
    "    result = job.result()\n",
    "    return time.time() - start\n",
    "\n",
    "aer_results = {}\n",
    "for n in range(low, high + 1):\n",
    "        width_results = []\n",
    "        \n",
    "        # Run the benchmarks\n",
    "        for i in range(samples):\n",
    "            width_results.append(bench_aer(n))\n",
    "\n",
    "        aer_results[n] = sum(width_results) / samples\n",
    "\n",
    "print(aer_results)"
   ]
  },
  {
   "cell_type": "markdown",
   "id": "c1d58cfe",
   "metadata": {},
   "source": [
    "## QCGPU"
   ]
  },
  {
   "cell_type": "code",
   "execution_count": 7,
   "id": "6b610fc1",
   "metadata": {},
   "outputs": [
    {
     "name": "stdout",
     "output_type": "stream",
     "text": [
      "{3: 0.0015144991874694825, 4: 0.0022780919075012208, 5: 0.003300960063934326, 6: 0.004466686248779297, 7: 0.005917127132415771, 8: 0.007461774349212647, 9: 0.00931915283203125, 10: 0.011352255344390869}\n"
     ]
    }
   ],
   "source": [
    "import qcgpu\n",
    "\n",
    "def bench_qcgpu(num_qubits):\n",
    "    state = qcgpu.State(num_qubits)\n",
    "    start = time.time()\n",
    "\n",
    "    for j in range(num_qubits):\n",
    "        for k in range(j):\n",
    "            state.cu1(j, k, math.pi/float(2**(j-k)))\n",
    "        state.h(j)\n",
    "    state.measure()\n",
    "\n",
    "    state.backend.queue.finish()\n",
    "    return time.time() - start\n",
    "\n",
    "qcgpu_results = {}\n",
    "for n in range(low, high + 1):\n",
    "        width_results = []\n",
    "        \n",
    "        # Run the benchmarks\n",
    "        for i in range(samples):\n",
    "            width_results.append(bench_qcgpu(n))\n",
    "\n",
    "        qcgpu_results[n] = sum(width_results) / samples\n",
    "\n",
    "print(qcgpu_results)"
   ]
  },
  {
   "cell_type": "markdown",
   "id": "86c9e143",
   "metadata": {},
   "source": [
    "## Results"
   ]
  },
  {
   "cell_type": "code",
   "execution_count": 8,
   "id": "976910d6",
   "metadata": {},
   "outputs": [
    {
     "data": {
      "image/png": "[encoded data removed]",
      "text/plain": [
       "<Figure size 432x288 with 1 Axes>"
      ]
     },
     "metadata": {
      "needs_background": "light"
     },
     "output_type": "display_data"
    }
   ],
   "source": [
    "import matplotlib.pyplot as plt\n",
    "\n",
    "colors = list(\"cbgr\")\n",
    "\n",
    "x = qrack_0_results.keys()\n",
    "y = qrack_0_results.values()\n",
    "plt.scatter(x,y,color=colors.pop())\n",
    "\n",
    "x = qrack_results.keys()\n",
    "y = qrack_results.values()\n",
    "plt.scatter(x,y,color=colors.pop())\n",
    "\n",
    "x = aer_results.keys()\n",
    "y = aer_results.values()\n",
    "plt.scatter(x,y,color=colors.pop())\n",
    "\n",
    "x = qcgpu_results.keys()\n",
    "y = qcgpu_results.values()\n",
    "plt.scatter(x,y,color=colors.pop())\n",
    "\n",
    "plt.title(\"N-qubit QFT\")\n",
    "plt.xlabel(\"Circuit width (qb)\")\n",
    "plt.ylabel(\"Time (s)\")\n",
    "plt.legend([\"PyQrack (|0> init.)\", \"PyQrack (Rand. 1 qb init.)\", \"Qiskit Aer (|0> init.)\", \"QCGPU (|0> init.)\"])\n",
    "plt.yscale(\"log\")\n",
    "plt.show()"
   ]
  }
 ],
 "metadata": {
  "kernelspec": {
   "display_name": "Python 3 (ipykernel)",
   "language": "python",
   "name": "python3"
  },
  "language_info": {
   "codemirror_mode": {
    "name": "ipython",
    "version": 3
   },
   "file_extension": ".py",
   "mimetype": "text/x-python",
   "name": "python",
   "nbconvert_exporter": "python",
   "pygments_lexer": "ipython3",
   "version": "3.10.6"
  }
 },
 "nbformat": 4,
 "nbformat_minor": 5
}
