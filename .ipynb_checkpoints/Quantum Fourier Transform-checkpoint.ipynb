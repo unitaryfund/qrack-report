{
 "cells": [
  {
   "cell_type": "markdown",
   "id": "5f57c8a3",
   "metadata": {},
   "source": [
    "# Quantum Fourier Transform Benchmark"
   ]
  },
  {
   "cell_type": "code",
   "execution_count": 1,
   "id": "90b257ae",
   "metadata": {},
   "outputs": [],
   "source": [
    "low = 1\n",
    "high = 28\n",
    "samples = 100"
   ]
  },
  {
   "cell_type": "code",
   "execution_count": 2,
   "id": "1f21a89b",
   "metadata": {},
   "outputs": [],
   "source": [
    "import time\n",
    "import random\n",
    "import math\n",
    "import numpy as np"
   ]
  },
  {
   "cell_type": "markdown",
   "id": "198979f1",
   "metadata": {},
   "source": [
    "## FFTW (\"Classical\" DFT)"
   ]
  },
  {
   "cell_type": "code",
   "execution_count": null,
   "id": "657d7562",
   "metadata": {},
   "outputs": [],
   "source": [
    "# See https://blog.hpc.qmul.ac.uk/pyfftw.html\n",
    "import pyfftw\n",
    "\n",
    "pyfftw.interfaces.cache.enable()\n",
    "pyfftw.interfaces.cache.set_keepalive_time(60)\n",
    "total_time = 0\n",
    "\n",
    "fftw_results = {}\n",
    "for n in range(low, high + 1):\n",
    "    width_results = []\n",
    "    for i in range(samples):\n",
    "        io_array = pyfftw.empty_aligned(2**n, dtype=np.complex64)\n",
    "        io_array[0] = 1.\n",
    "        start = time.perf_counter()\n",
    "        pyfftw.interfaces.numpy_fft.fft(io_array, overwrite_input=True, threads = (16 if (n > 19) else 1))\n",
    "        width_results.append(time.perf_counter() - start)\n",
    "\n",
    "    fftw_results[n] = sum(width_results) / samples\n",
    "\n",
    "print(fftw_results)"
   ]
  },
  {
   "cell_type": "markdown",
   "id": "fb4ef620",
   "metadata": {},
   "source": [
    "## PyQrack"
   ]
  },
  {
   "cell_type": "code",
   "execution_count": null,
   "id": "c8d50805",
   "metadata": {},
   "outputs": [],
   "source": [
    "%env QRACK_QUNITMULTI_DEVICES 1\n",
    "from pyqrack import QrackSimulator, Pauli\n",
    "\n",
    "def reverse_qrack(sim):\n",
    "    start = 0\n",
    "    end = sim.num_qubits() - 1\n",
    "    while (start < end):\n",
    "        sim.swap(start, end)\n",
    "        start += 1\n",
    "        end -= 1"
   ]
  },
  {
   "cell_type": "markdown",
   "id": "68e25cbe",
   "metadata": {},
   "source": [
    "### |0> initialization"
   ]
  },
  {
   "cell_type": "code",
   "execution_count": null,
   "id": "a58fa479",
   "metadata": {},
   "outputs": [],
   "source": [
    "def bench_qrack_0(n):\n",
    "    sim = QrackSimulator(n)\n",
    "    # Permutation basis eigenstate initialization before QFT is \"trivial\" for Qrack.\n",
    "    start = time.perf_counter()\n",
    "    qubits = [i for i in range(n)]\n",
    "    sim.qft(qubits)\n",
    "    reverse_qrack(sim)\n",
    "    sim.m_all()\n",
    "\n",
    "    return time.perf_counter() - start\n",
    "\n",
    "qrack_0_results = {}\n",
    "for n in range(low, high + 1):\n",
    "    width_results = []\n",
    "        \n",
    "    # Run the benchmarks\n",
    "    for i in range(samples):\n",
    "        width_results.append(bench_qrack_0(n))\n",
    "\n",
    "    qrack_0_results[n] = sum(width_results) / samples\n",
    "\n",
    "print(qrack_0_results)"
   ]
  },
  {
   "cell_type": "markdown",
   "id": "4ccd03cb",
   "metadata": {},
   "source": [
    "### Random 1-qubit unitary initialization"
   ]
  },
  {
   "cell_type": "code",
   "execution_count": null,
   "id": "955011cc",
   "metadata": {},
   "outputs": [],
   "source": [
    "def bench_qrack(n):\n",
    "    sim = QrackSimulator(n)\n",
    "    # Permutation basis eigenstate initialization before QFT is \"trivial\" for Qrack,\n",
    "    # so we give it a realistic case instead.\n",
    "    for i in range(n):\n",
    "        # Initialize with uniformly random single qubit gates, across full width.\n",
    "        sim.u(i, random.uniform(0, 4 * math.pi), random.uniform(0, 4 * math.pi), random.uniform(0, 4 * math.pi))\n",
    "    start = time.perf_counter()\n",
    "    qubits = [i for i in range(n)]\n",
    "    sim.qft(qubits)\n",
    "    reverse_qrack(sim)\n",
    "    sim.m_all()\n",
    "\n",
    "    return time.perf_counter() - start\n",
    "\n",
    "qrack_results = {}\n",
    "for n in range(low, high + 1):\n",
    "    width_results = []\n",
    "        \n",
    "    # Run the benchmarks\n",
    "    for i in range(samples):\n",
    "        width_results.append(bench_qrack(n))\n",
    "\n",
    "    qrack_results[n] = sum(width_results) / samples\n",
    "\n",
    "print(qrack_results)"
   ]
  },
  {
   "cell_type": "markdown",
   "id": "0993b6d5",
   "metadata": {},
   "source": [
    "## Qiskit Aer"
   ]
  },
  {
   "cell_type": "code",
   "execution_count": null,
   "id": "4db7aa58",
   "metadata": {},
   "outputs": [],
   "source": [
    "from qiskit import QuantumCircuit\n",
    "from qiskit import execute, Aer\n",
    "from qiskit.providers.aer import QasmSimulator\n",
    "\n",
    "def reverse_aer(num_qubits, circ):\n",
    "    start = 0\n",
    "    end = num_qubits - 1\n",
    "    while (start < end):\n",
    "        circ.swap(start, end)\n",
    "        start += 1\n",
    "        end -= 1\n",
    "\n",
    "# Implementation of the Quantum Fourier Transform\n",
    "def aer_qft(num_qubits, circ):\n",
    "    # Quantum Fourier Transform\n",
    "    for j in range(num_qubits):\n",
    "        for k in range(j):\n",
    "            circ.cp(math.pi/float(2**(j-k)), j, k)\n",
    "        circ.h(j)\n",
    "    reverse_aer(num_qubits, circ)\n",
    "    for j in range(num_qubits):\n",
    "        circ.measure(j, j)\n",
    "\n",
    "    return circ\n",
    "\n",
    "sim_backend = QasmSimulator(shots=1, method='statevector_gpu')\n",
    "\n",
    "def bench_aer(num_qubits):\n",
    "    circ = QuantumCircuit(num_qubits, num_qubits)\n",
    "    aer_qft(num_qubits, circ)\n",
    "    start = time.perf_counter()\n",
    "    job = execute([circ], sim_backend, timeout=600)\n",
    "    result = job.result()\n",
    "    return time.perf_counter() - start\n",
    "\n",
    "aer_results = {}\n",
    "for n in range(low, high + 1):\n",
    "    width_results = []\n",
    "        \n",
    "    # Run the benchmarks\n",
    "    for i in range(samples):\n",
    "        width_results.append(bench_aer(n))\n",
    "\n",
    "    aer_results[n] = sum(width_results) / samples\n",
    "\n",
    "print(aer_results)"
   ]
  },
  {
   "cell_type": "markdown",
   "id": "d52186ae",
   "metadata": {},
   "source": [
    "## Qulacs"
   ]
  },
  {
   "cell_type": "code",
   "execution_count": null,
   "id": "f785a774",
   "metadata": {},
   "outputs": [],
   "source": [
    "import qulacs\n",
    "\n",
    "def reverse_qulacs(num_qubits, circ):\n",
    "    start = 0\n",
    "    end = num_qubits - 1\n",
    "    while (start < end):\n",
    "        circ.add_gate(qulacs.gate.SWAP(start, end))\n",
    "        start += 1\n",
    "        end -= 1\n",
    "\n",
    "def get_rotz(exponent: float) -> np.ndarray:\n",
    "    return np.diag([1., np.exp(1.j * np.pi * exponent)])\n",
    "\n",
    "def bench_qulacs(n):\n",
    "    sim = qulacs.QuantumStateGpu(n)\n",
    "    circ = qulacs.QuantumCircuit(n)\n",
    "    start = time.perf_counter()\n",
    "\n",
    "    for j in range(n):\n",
    "        for k in range(j):\n",
    "            mat = get_rotz(math.pi/float(2**(j-k)))\n",
    "            gate = qulacs.gate.DenseMatrix(k, mat)\n",
    "            gate.add_control_qubit(j, 1)\n",
    "            circ.add_gate(gate)\n",
    "        circ.add_gate(qulacs.gate.H(j))\n",
    "    reverse_qulacs(n, circ)\n",
    "    for index in range(n):\n",
    "        circ.add_gate(qulacs.gate.Measurement(index, index))\n",
    "\n",
    "    circ.update_quantum_state(sim)\n",
    "\n",
    "    return time.perf_counter() - start\n",
    "\n",
    "qulacs_results = {}\n",
    "for n in range(low, high + 1):\n",
    "    width_results = []\n",
    "        \n",
    "    # Run the benchmarks\n",
    "    for i in range(samples):\n",
    "        width_results.append(bench_qulacs(n))\n",
    "\n",
    "    qulacs_results[n] = sum(width_results) / samples\n",
    "\n",
    "print(qulacs_results)"
   ]
  },
  {
   "cell_type": "markdown",
   "id": "b97a4454",
   "metadata": {},
   "source": [
    "## QCGPU"
   ]
  },
  {
   "cell_type": "code",
   "execution_count": null,
   "id": "ae7bff83",
   "metadata": {},
   "outputs": [],
   "source": [
    "%env PYOPENCL_CTX 1"
   ]
  },
  {
   "cell_type": "code",
   "execution_count": null,
   "id": "67a16d0d",
   "metadata": {},
   "outputs": [],
   "source": [
    "import qcgpu\n",
    "\n",
    "def swap_qcgpu(circ, q1, q2):\n",
    "    circ.cx(q1, q2)\n",
    "    circ.cx(q2, q1)\n",
    "    circ.cx(q1, q2)\n",
    "    \n",
    "def reverse_qcgpu(num_qubits, circ):\n",
    "    start = 0\n",
    "    end = num_qubits - 1\n",
    "    while (start < end):\n",
    "        swap_qcgpu(circ, start, end)\n",
    "        start += 1\n",
    "        end -= 1\n",
    "\n",
    "def bench_qcgpu(num_qubits):\n",
    "    state = qcgpu.State(num_qubits)\n",
    "    start = time.perf_counter()\n",
    " \n",
    "    for j in range(num_qubits):\n",
    "        for k in range(j):\n",
    "            state.cu1(j, k, math.pi/float(2**(j-k)))\n",
    "        state.h(j)\n",
    "    reverse_qcgpu(num_qubits, state)\n",
    "    state.measure()\n",
    "\n",
    "    state.backend.queue.finish()\n",
    "    return time.perf_counter() - start\n",
    "\n",
    "qcgpu_results = {}\n",
    "for n in range(low, high + 1):\n",
    "    width_results = []\n",
    "         \n",
    "    # Run the benchmarks\n",
    "    for i in range(samples):\n",
    "        width_results.append(bench_qcgpu(n))\n",
    "\n",
    "    qcgpu_results[n] = sum(width_results) / samples\n",
    "\n",
    "print(qcgpu_results)"
   ]
  },
  {
   "cell_type": "markdown",
   "id": "86c9e143",
   "metadata": {},
   "source": [
    "## Results"
   ]
  },
  {
   "cell_type": "code",
   "execution_count": null,
   "id": "976910d6",
   "metadata": {},
   "outputs": [],
   "source": [
    "import matplotlib.pyplot as plt\n",
    "\n",
    "fig = plt.gcf()\n",
    "fig.set_size_inches(14, 14)\n",
    "\n",
    "colors = list(\"cymbgr\")\n",
    "\n",
    "x = qrack_0_results.keys()\n",
    "y = qrack_0_results.values()\n",
    "plt.scatter(x,y,color=colors.pop())\n",
    "\n",
    "x = qrack_results.keys()\n",
    "y = qrack_results.values()\n",
    "plt.scatter(x,y,color=colors.pop())\n",
    "\n",
    "x = aer_results.keys()\n",
    "y = aer_results.values()\n",
    "plt.scatter(x,y,color=colors.pop())\n",
    "\n",
    "x = qulacs_results.keys()\n",
    "y = qulacs_results.values()\n",
    "plt.scatter(x,y,color=colors.pop())\n",
    "\n",
    "x = qcgpu_results.keys()\n",
    "y = qcgpu_results.values()\n",
    "plt.scatter(x,y,color=colors.pop())\n",
    "\n",
    "x = fftw_results.keys()\n",
    "y = fftw_results.values()\n",
    "plt.scatter(x,y,color=colors.pop())\n",
    "\n",
    "plt.title(\"N-qubit QFT\")\n",
    "plt.xlabel(\"Circuit width (qb)\")\n",
    "plt.ylabel(\"Time (s)\")\n",
    "plt.legend([\"PyQrack (|0> init.)\", \"PyQrack (Rand. 1 qb init.)\", \"Qiskit Aer (|0> init.)\", \"Qulacs (|0> init.)\", \"QCGPU (|0> init.)\", \"pyFFTW (|0> init.)\"])\n",
    "plt.yscale(\"log\")\n",
    "plt.xticks(np.arange(low, high + 1, step=1))\n",
    "\n",
    "plt.show()\n",
    "\n",
    "fig.savefig('qft_chart.png', dpi=100)"
   ]
  },
  {
   "cell_type": "code",
   "execution_count": null,
   "id": "bec59c1d",
   "metadata": {},
   "outputs": [],
   "source": [
    "import platform\n",
    "\n",
    "print(platform.machine())\n",
    "print(platform.version())\n",
    "print(platform.platform())\n",
    "print(platform.uname())\n",
    "print(platform.system())\n",
    "print(platform.processor())"
   ]
  },
  {
   "cell_type": "code",
   "execution_count": null,
   "id": "174ee311",
   "metadata": {},
   "outputs": [],
   "source": [
    "import subprocess\n",
    "\n",
    "line_as_bytes = subprocess.check_output(\"nvidia-smi -L\", shell=True)\n",
    "line = line_as_bytes.decode(\"ascii\")\n",
    "_, line = line.split(\":\", 1)\n",
    "line, _ = line.split(\"(\")\n",
    "print(line.strip())"
   ]
  },
  {
   "cell_type": "code",
   "execution_count": null,
   "id": "92fd5924",
   "metadata": {},
   "outputs": [],
   "source": [
    "import cpuinfo\n",
    "cpuinfo.get_cpu_info()['brand_raw']"
   ]
  }
 ],
 "metadata": {
  "kernelspec": {
   "display_name": "Python 3 (ipykernel)",
   "language": "python",
   "name": "python3"
  },
  "language_info": {
   "codemirror_mode": {
    "name": "ipython",
    "version": 3
   },
   "file_extension": ".py",
   "mimetype": "text/x-python",
   "name": "python",
   "nbconvert_exporter": "python",
   "pygments_lexer": "ipython3",
   "version": "3.10.6"
  }
 },
 "nbformat": 4,
 "nbformat_minor": 5
}
