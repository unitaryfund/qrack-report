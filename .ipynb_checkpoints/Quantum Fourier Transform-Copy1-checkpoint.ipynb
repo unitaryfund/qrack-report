{
 "cells": [
  {
   "cell_type": "markdown",
   "id": "5f57c8a3",
   "metadata": {},
   "source": [
    "# Quantum Fourier Transform Benchmark"
   ]
  },
  {
   "cell_type": "code",
   "execution_count": 1,
   "id": "90b257ae",
   "metadata": {},
   "outputs": [],
   "source": [
    "low = 3\n",
    "high = 27\n",
    "samples = 100"
   ]
  },
  {
   "cell_type": "code",
   "execution_count": 2,
   "id": "1f21a89b",
   "metadata": {},
   "outputs": [],
   "source": [
    "import time\n",
    "import random\n",
    "import math"
   ]
  },
  {
   "cell_type": "markdown",
   "id": "fb4ef620",
   "metadata": {},
   "source": [
    "## PyQrack"
   ]
  },
  {
   "cell_type": "code",
   "execution_count": 3,
   "id": "c8d50805",
   "metadata": {},
   "outputs": [],
   "source": [
    "from pyqrack import QrackSimulator, Pauli"
   ]
  },
  {
   "cell_type": "markdown",
   "id": "68e25cbe",
   "metadata": {},
   "source": [
    "### |0> initialization"
   ]
  },
  {
   "cell_type": "code",
   "execution_count": 4,
   "id": "a58fa479",
   "metadata": {},
   "outputs": [
    {
     "name": "stdout",
     "output_type": "stream",
     "text": [
      "Device #0, Loaded binary from: /home/iamu/.qrack/qrack_ocl_dev_Intel(R)_UHD_Graphics_[0x9bc4].ir\n",
      "Device #1, Loaded binary from: /home/iamu/.qrack/qrack_ocl_dev_NVIDIA_GeForce_RTX_3080_Laptop_GPU.ir\n",
      "{3: 8.695125579833984e-06, 4: 9.791851043701172e-06, 5: 1.1801719665527344e-05, 6: 1.3513565063476562e-05, 7: 1.524209976196289e-05, 8: 1.8169879913330077e-05, 9: 1.99127197265625e-05, 10: 2.2287368774414063e-05, 11: 2.5284290313720702e-05, 12: 2.731800079345703e-05, 13: 2.936840057373047e-05, 14: 3.329992294311523e-05, 15: 3.4837722778320314e-05, 16: 3.927707672119141e-05, 17: 4.1348934173583986e-05, 18: 4.499197006225586e-05, 19: 4.7855377197265625e-05, 20: 5.071401596069336e-05, 21: 5.5494308471679685e-05, 22: 5.896329879760742e-05, 23: 6.264209747314453e-05, 24: 6.628751754760742e-05, 25: 7.092952728271484e-05, 26: 7.377386093139649e-05, 27: 8.198261260986328e-05}\n"
     ]
    }
   ],
   "source": [
    "def bench_qrack_0(n):\n",
    "    sim = QrackSimulator(n)\n",
    "    # Permutation basis eigenstate initialization before QFT is \"trivial\" for Qrack.\n",
    "    start = time.time()\n",
    "    qubits = [i for i in range(n)]\n",
    "    sim.qft(qubits)\n",
    "    sim.m_all()\n",
    "\n",
    "    return time.time() - start\n",
    "\n",
    "qrack_0_results = {}\n",
    "for n in range(low, high + 1):\n",
    "        width_results = []\n",
    "        \n",
    "        # Run the benchmarks\n",
    "        for i in range(samples):\n",
    "            width_results.append(bench_qrack_0(n))\n",
    "\n",
    "        qrack_0_results[n] = sum(width_results) / samples\n",
    "\n",
    "print(qrack_0_results)"
   ]
  },
  {
   "cell_type": "markdown",
   "id": "4ccd03cb",
   "metadata": {},
   "source": [
    "### Random 1-qubit unitary initialization"
   ]
  },
  {
   "cell_type": "code",
   "execution_count": 5,
   "id": "955011cc",
   "metadata": {},
   "outputs": [
    {
     "name": "stdout",
     "output_type": "stream",
     "text": [
      "{3: 0.00014119863510131836, 4: 0.0001859760284423828, 5: 0.00022918701171875, 6: 0.00029712677001953125, 7: 0.0003905177116394043, 8: 0.00047174692153930666, 9: 0.0006333398818969727, 10: 0.0008270645141601563, 11: 0.0014725756645202637, 12: 0.0020215582847595216, 13: 0.002416388988494873, 14: 0.002783501148223877, 15: 0.003145616054534912, 16: 0.0034728455543518067, 17: 0.0038985490798950197, 18: 0.004860231876373291, 19: 0.005686185359954834, 20: 0.0077316808700561524, 21: 0.0108766770362854, 22: 0.01674738883972168, 23: 0.02866502046585083, 24: 0.0503161096572876, 25: 0.0961396861076355, 26: 0.1788361644744873, 27: 0.3738046360015869}\n"
     ]
    }
   ],
   "source": [
    "def bench_qrack(n):\n",
    "    sim = QrackSimulator(n)\n",
    "    # Permutation basis eigenstate initialization before QFT is \"trivial\" for Qrack,\n",
    "    # so we give it a realistic case instead.\n",
    "    for i in range(n):\n",
    "        # Initialize with uniformly random single qubit gates, across full width.\n",
    "        sim.u(i, random.uniform(0, 4 * math.pi), random.uniform(0, 4 * math.pi), random.uniform(0, 4 * math.pi))\n",
    "    start = time.time()\n",
    "    qubits = [i for i in range(n)]\n",
    "    sim.qft(qubits)\n",
    "    sim.m_all()\n",
    "\n",
    "    return time.time() - start\n",
    "\n",
    "qrack_results = {}\n",
    "for n in range(low, high + 1):\n",
    "        width_results = []\n",
    "        \n",
    "        # Run the benchmarks\n",
    "        for i in range(samples):\n",
    "            width_results.append(bench_qrack(n))\n",
    "\n",
    "        qrack_results[n] = sum(width_results) / samples\n",
    "\n",
    "print(qrack_results)"
   ]
  },
  {
   "cell_type": "markdown",
   "id": "0993b6d5",
   "metadata": {},
   "source": [
    "## Qiskit Aer"
   ]
  },
  {
   "cell_type": "code",
   "execution_count": 6,
   "id": "4db7aa58",
   "metadata": {},
   "outputs": [
    {
     "name": "stdout",
     "output_type": "stream",
     "text": [
      "{3: 0.005263395309448242, 4: 0.005729036331176758, 5: 0.006696975231170655, 6: 0.007609884738922119, 7: 0.00850888729095459, 8: 0.009601378440856933, 9: 0.011004776954650878, 10: 0.011836035251617432, 11: 0.013232288360595703, 12: 0.014642550945281982, 13: 0.015946123600006103, 14: 0.017628173828125, 15: 0.01914294242858887, 16: 0.020538611412048338, 17: 0.02184185028076172, 18: 0.02384063005447388, 19: 0.027460811138153077, 20: 0.033317489624023436, 21: 0.04595288276672363, 22: 0.06728291749954224, 23: 0.11052488565444946, 24: 0.1983662724494934, 25: 0.36673742055892944, 26: 0.7311979508399964, 27: 1.5518643641471863}\n"
     ]
    }
   ],
   "source": [
    "from qiskit import QuantumCircuit\n",
    "from qiskit import execute, Aer\n",
    "from qiskit.providers.aer import QasmSimulator\n",
    "\n",
    "# Implementation of the Quantum Fourier Transform\n",
    "def aer_qft(num_qubits, circ):\n",
    "    # Quantum Fourier Transform\n",
    "    for j in range(num_qubits):\n",
    "        for k in range(j):\n",
    "            circ.cp(math.pi/float(2**(j-k)), j, k)\n",
    "        circ.h(j)\n",
    "    for j in range(num_qubits):\n",
    "        circ.measure(j, j)\n",
    "\n",
    "    return circ\n",
    "\n",
    "sim_backend = QasmSimulator(shots=1, method='statevector_gpu')\n",
    "\n",
    "def bench_aer(num_qubits):\n",
    "    circ = QuantumCircuit(num_qubits, num_qubits)\n",
    "    aer_qft(num_qubits, circ)\n",
    "    start = time.time()\n",
    "    job = execute([circ], sim_backend, timeout=600)\n",
    "    result = job.result()\n",
    "    return time.time() - start\n",
    "\n",
    "aer_results = {}\n",
    "for n in range(low, high + 1):\n",
    "        width_results = []\n",
    "        \n",
    "        # Run the benchmarks\n",
    "        for i in range(samples):\n",
    "            width_results.append(bench_aer(n))\n",
    "\n",
    "        aer_results[n] = sum(width_results) / samples\n",
    "\n",
    "print(aer_results)"
   ]
  },
  {
   "cell_type": "markdown",
   "id": "c1d58cfe",
   "metadata": {},
   "source": [
    "## QCGPU"
   ]
  },
  {
   "cell_type": "code",
   "execution_count": 7,
   "id": "6b610fc1",
   "metadata": {},
   "outputs": [],
   "source": [
    "# import qcgpu\n",
    "#\n",
    "# def bench_qcgpu(num_qubits):\n",
    "#     state = qcgpu.State(num_qubits)\n",
    "#     start = time.time()\n",
    "# \n",
    "#     for j in range(num_qubits):\n",
    "#         for k in range(j):\n",
    "#             state.cu1(j, k, math.pi/float(2**(j-k)))\n",
    "#         state.h(j)\n",
    "#     state.measure()\n",
    "#\n",
    "#     state.backend.queue.finish()\n",
    "#     return time.time() - start\n",
    "#\n",
    "# qcgpu_results = {}\n",
    "# for n in range(low, high + 1):\n",
    "#         width_results = []\n",
    "#          \n",
    "#         # Run the benchmarks\n",
    "#         for i in range(samples):\n",
    "#             width_results.append(bench_qcgpu(n))\n",
    "#\n",
    "#         qcgpu_results[n] = sum(width_results) / samples\n",
    "#\n",
    "# print(qcgpu_results)"
   ]
  },
  {
   "cell_type": "markdown",
   "id": "d52186ae",
   "metadata": {},
   "source": [
    "## Qulacs"
   ]
  },
  {
   "cell_type": "code",
   "execution_count": 8,
   "id": "f785a774",
   "metadata": {},
   "outputs": [
    {
     "name": "stdout",
     "output_type": "stream",
     "text": [
      "{3: 0.0005140066146850586, 4: 0.0006486916542053223, 5: 0.0007972598075866699, 6: 0.0008978056907653809, 7: 0.0010477709770202637, 8: 0.0013092637062072753, 9: 0.0015738892555236816, 10: 0.0019271111488342286, 11: 0.002530813217163086, 12: 0.0030379295349121094, 13: 0.003364884853363037, 14: 0.003804302215576172, 15: 0.004462130069732666, 16: 0.00704709529876709, 17: 0.011649451255798339, 18: 0.015823450088500977, 19: 0.024271488189697266, 20: 0.043964567184448244, 21: 0.0834772801399231, 22: 0.16780892610549927, 23: 0.3426369309425354, 24: 0.6768504881858826, 25: 1.3470578598976135, 26: 2.698438425064087, 27: 5.643522427082062}\n"
     ]
    }
   ],
   "source": [
    "import numpy as np\n",
    "import qulacs\n",
    "\n",
    "def get_rotz(exponent: float) -> np.ndarray:\n",
    "    return np.diag([1., np.exp(1.j * np.pi * exponent)])\n",
    "\n",
    "def bench_qulacs(n):\n",
    "    sim = qulacs.QuantumStateGpu(n)\n",
    "    circ = qulacs.QuantumCircuit(n)\n",
    "    start = time.time()\n",
    "\n",
    "    for j in range(n):\n",
    "        for k in range(j):\n",
    "            mat = get_rotz(math.pi/float(2**(j-k)))\n",
    "            gate = qulacs.gate.DenseMatrix(k, mat)\n",
    "            gate.add_control_qubit(j, 1)\n",
    "            circ.add_gate(gate)\n",
    "        circ.add_gate(qulacs.gate.H(j))\n",
    "    for index in range(n):\n",
    "        circ.add_gate(qulacs.gate.Measurement(index, index))\n",
    "\n",
    "    circ.update_quantum_state(sim)\n",
    "\n",
    "    return time.time() - start\n",
    "\n",
    "qulacs_results = {}\n",
    "for n in range(low, high + 1):\n",
    "        width_results = []\n",
    "        \n",
    "        # Run the benchmarks\n",
    "        for i in range(samples):\n",
    "            width_results.append(bench_qulacs(n))\n",
    "\n",
    "        qulacs_results[n] = sum(width_results) / samples\n",
    "\n",
    "print(qulacs_results)"
   ]
  },
  {
   "cell_type": "markdown",
   "id": "86c9e143",
   "metadata": {},
   "source": [
    "## Results"
   ]
  },
  {
   "cell_type": "code",
   "execution_count": 9,
   "id": "976910d6",
   "metadata": {},
   "outputs": [
    {
     "data": {
      "image/png": "[encoded data removed]",
      "text/plain": [
       "<Figure size 1008x1008 with 1 Axes>"
      ]
     },
     "metadata": {
      "needs_background": "light"
     },
     "output_type": "display_data"
    }
   ],
   "source": [
    "import matplotlib.pyplot as plt\n",
    "\n",
    "fig = plt.gcf()\n",
    "fig.set_size_inches(14, 14)\n",
    "\n",
    "colors = list(\"ymbgr\")\n",
    "\n",
    "x = qrack_0_results.keys()\n",
    "y = qrack_0_results.values()\n",
    "plt.scatter(x,y,color=colors.pop())\n",
    "\n",
    "x = qrack_results.keys()\n",
    "y = qrack_results.values()\n",
    "plt.scatter(x,y,color=colors.pop())\n",
    "\n",
    "x = aer_results.keys()\n",
    "y = aer_results.values()\n",
    "plt.scatter(x,y,color=colors.pop())\n",
    "\n",
    "# x = qcgpu_results.keys()\n",
    "# y = qcgpu_results.values()\n",
    "# plt.scatter(x,y,color=colors.pop())\n",
    "\n",
    "x = qulacs_results.keys()\n",
    "y = qulacs_results.values()\n",
    "plt.scatter(x,y,color=colors.pop())\n",
    "\n",
    "plt.title(\"N-qubit QFT\")\n",
    "plt.xlabel(\"Circuit width (qb)\")\n",
    "plt.ylabel(\"Time (s)\")\n",
    "# plt.legend([\"PyQrack (|0> init.)\", \"PyQrack (Rand. 1 qb init.)\", \"Qiskit Aer (|0> init.)\", \"QCGPU (|0> init.)\", \"Qulacs (|0> init.)\"])\n",
    "plt.legend([\"PyQrack (|0> init.)\", \"PyQrack (Rand. 1 qb init.)\", \"Qiskit Aer (|0> init.)\", \"Qulacs (|0> init.)\"])\n",
    "plt.yscale(\"log\")\n",
    "\n",
    "plt.show()\n",
    "\n",
    "fig.savefig('qft_chart.png', dpi=100)"
   ]
  },
  {
   "cell_type": "code",
   "execution_count": 10,
   "id": "bec59c1d",
   "metadata": {},
   "outputs": [
    {
     "name": "stdout",
     "output_type": "stream",
     "text": [
      "x86_64\n",
      "#33~22.04.1-Ubuntu SMP PREEMPT_DYNAMIC Mon Jan 30 17:03:34 UTC 2\n",
      "Linux-5.19.0-32-generic-x86_64-with-glibc2.35\n",
      "uname_result(system='Linux', node='sekhmet', release='5.19.0-32-generic', version='#33~22.04.1-Ubuntu SMP PREEMPT_DYNAMIC Mon Jan 30 17:03:34 UTC 2', machine='x86_64')\n",
      "Linux\n",
      "x86_64\n"
     ]
    }
   ],
   "source": [
    "import platform\n",
    "\n",
    "print(platform.machine())\n",
    "print(platform.version())\n",
    "print(platform.platform())\n",
    "print(platform.uname())\n",
    "print(platform.system())\n",
    "print(platform.processor())"
   ]
  },
  {
   "cell_type": "code",
   "execution_count": 11,
   "id": "174ee311",
   "metadata": {},
   "outputs": [
    {
     "name": "stdout",
     "output_type": "stream",
     "text": [
      "NVIDIA GeForce RTX 3080 Laptop GPU\n"
     ]
    }
   ],
   "source": [
    "import subprocess\n",
    "\n",
    "line_as_bytes = subprocess.check_output(\"nvidia-smi -L\", shell=True)\n",
    "line = line_as_bytes.decode(\"ascii\")\n",
    "_, line = line.split(\":\", 1)\n",
    "line, _ = line.split(\"(\")\n",
    "print(line.strip())"
   ]
  }
 ],
 "metadata": {
  "kernelspec": {
   "display_name": "Python 3 (ipykernel)",
   "language": "python",
   "name": "python3"
  },
  "language_info": {
   "codemirror_mode": {
    "name": "ipython",
    "version": 3
   },
   "file_extension": ".py",
   "mimetype": "text/x-python",
   "name": "python",
   "nbconvert_exporter": "python",
   "pygments_lexer": "ipython3",
   "version": "3.10.6"
  }
 },
 "nbformat": 4,
 "nbformat_minor": 5
}
